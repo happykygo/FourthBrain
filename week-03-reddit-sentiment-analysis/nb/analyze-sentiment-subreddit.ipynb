{
 "cells": [
  {
   "cell_type": "markdown",
   "metadata": {},
   "source": [
    "<p align = \"center\" draggable=”false” ><img src=\"https://user-images.githubusercontent.com/37101144/161836199-fdb0219d-0361-4988-bf26-48b0fad160a3.png\" \n",
    "     width=\"200px\"\n",
    "     height=\"auto\"/>\n",
    "</p>"
   ]
  },
  {
   "cell_type": "markdown",
   "metadata": {},
   "source": [
    "# <h1 align=\"center\" id=\"heading\">Sentiment Analysis of Reddit Data using Reddit API</h1>"
   ]
  },
  {
   "cell_type": "markdown",
   "metadata": {},
   "source": [
    "In this live coding session, we leverage the Python Reddit API Wrapper (`PRAW`) to retrieve data from subreddits on [Reddit](https://www.reddit.com), and perform sentiment analysis using [`pipelines`](https://huggingface.co/docs/transformers/main_classes/pipelines) from [HuggingFace ( 🤗 the GitHub of Machine Learning )](https://techcrunch.com/2022/05/09/hugging-face-reaches-2-billion-valuation-to-build-the-github-of-machine-learning/), powered by [transformer](https://arxiv.org/pdf/1706.03762.pdf)."
   ]
  },
  {
   "cell_type": "markdown",
   "metadata": {},
   "source": [
    "## Objectives"
   ]
  },
  {
   "cell_type": "markdown",
   "metadata": {},
   "source": [
    "At the end of the session, you will "
   ]
  },
  {
   "cell_type": "markdown",
   "metadata": {},
   "source": [
    "- know how to work with APIs\n",
    "- feel more comfortable navigating thru documentation, even inspecting the source code\n",
    "- understand what a `pipeline` object is in HuggingFace\n",
    "- perform sentiment analysis using `pipeline`\n",
    "- run a python script in command line and get the results"
   ]
  },
  {
   "cell_type": "markdown",
   "metadata": {
    "heading_collapsed": true
   },
   "source": [
    "## How to Submit"
   ]
  },
  {
   "cell_type": "markdown",
   "metadata": {},
   "source": [
    "- At the end of each task, commit* the work into the repository you created before the assignment\n",
    "- After completing all three tasks, make sure to push the notebook containing all code blocks and output cells to your repository you created before the assignment\n",
    "- Submit the link to the notebook in Canvas"
   ]
  },
  {
   "cell_type": "markdown",
   "metadata": {
    "hidden": true
   },
   "source": [
    "\\***NEVER** commit a notebook displaying errors unless it is instructed otherwise. However, commit often; recall git ABC = **A**lways **B**e **C**ommitting."
   ]
  },
  {
   "cell_type": "markdown",
   "metadata": {},
   "source": [
    "## Tasks"
   ]
  },
  {
   "cell_type": "markdown",
   "metadata": {
    "heading_collapsed": true
   },
   "source": [
    "### Task I: Instantiate a Reddit API Object"
   ]
  },
  {
   "cell_type": "markdown",
   "metadata": {
    "hidden": true
   },
   "source": [
    "The first task is to instantiate a Reddit API object using [PRAW](https://praw.readthedocs.io/en/stable/), through which you will retrieve data. PRAW is a wrapper for [Reddit API](https://www.reddit.com/dev/api) that makes interacting with the Reddit API easier unless you are already an expert of [`requests`](https://docs.python-requests.org/en/latest/)."
   ]
  },
  {
   "cell_type": "markdown",
   "metadata": {
    "hidden": true
   },
   "source": [
    "#### 1. Install packages"
   ]
  },
  {
   "cell_type": "markdown",
   "metadata": {
    "hidden": true
   },
   "source": [
    "Please ensure you've ran all the cells in the `imports.ipynb`, located [here](https://github.com/FourthBrain/MLE-8/blob/main/assignments/week-3-analyze-sentiment-subreddit/imports.ipynb), to make sure you have all the required packages for today's assignment."
   ]
  },
  {
   "cell_type": "markdown",
   "metadata": {
    "hidden": true
   },
   "source": [
    "####  2. Create a new app on Reddit "
   ]
  },
  {
   "cell_type": "markdown",
   "metadata": {
    "hidden": true
   },
   "source": [
    "Create a new app on Reddit and save secret tokens; refer to [post in medium](https://towardsdatascience.com/how-to-use-the-reddit-api-in-python-5e05ddfd1e5c) for more details."
   ]
  },
  {
   "cell_type": "markdown",
   "metadata": {
    "hidden": true
   },
   "source": [
    "- Create a Reddit account if you don't have one, log into your account.\n",
    "- To access the API, we need create an app. Slight updates, on the website, you need to navigate to `preference` > `app`, or click [this link](https://www.reddit.com/prefs/apps) and scroll all the way down. \n",
    "- Click to create a new app, fill in the **name**, choose `script`, fill in  **description** and **redirect uri** ( The redirect URI is where the user is sent after they've granted OAuth access to your application (more info [here](https://github.com/reddit-archive/reddit/wiki/OAuth2)) For our purpose, you can enter some random url, e.g., www.google.com; as shown below.\n",
    "\n",
    "\n",
    "    <img src=\"https://miro.medium.com/max/700/1*lRBvxpIe8J2nZYJ6ucMgHA.png\" width=\"500\"/>\n",
    "- Jot down `client_id` (left upper corner) and `client_secret` \n",
    "\n",
    "    NOTE: CLIENT_ID refers to 'personal use script\" and CLIENT_SECRET to secret.\n",
    "    \n",
    "    <div>\n",
    "    <img src=\"https://miro.medium.com/max/700/1*7cGAKth1PMrEf2sHcQWPoA.png\" width=\"300\"/>\n",
    "    </div>\n",
    "\n",
    "- Create `secrets_reddit.py` in the same directory with this notebook, fill in `client_id` and `secret_id` obtained from the last step. We will need to import those constants in the next step.\n",
    "    ```\n",
    "    REDDIT_API_CLIENT_ID = \"client_id\"\n",
    "    REDDIT_API_CLIENT_SECRET = \"secret_id\"\n",
    "    REDDIT_API_USER_AGENT = \"any string except bot; ex. My User Agent\"\n",
    "    ```\n",
    "- Add `secrets_reddit.py` to your `.gitignore` file if not already done. NEVER push credentials to a repo, private or public. "
   ]
  },
  {
   "cell_type": "markdown",
   "metadata": {
    "hidden": true
   },
   "source": [
    "#### 3. Instantiate a `Reddit` object"
   ]
  },
  {
   "cell_type": "markdown",
   "metadata": {
    "hidden": true
   },
   "source": [
    "Now you are ready to create a read-only `Reddit` instance. Refer to [documentation](https://praw.readthedocs.io/en/stable/code_overview/reddit_instance.html) when necessary."
   ]
  },
  {
   "cell_type": "code",
   "execution_count": 1,
   "metadata": {
    "hidden": true
   },
   "outputs": [],
   "source": [
    "import pprint\n",
    "\n",
    "import praw\n",
    "import secrets_reddit as sc\n",
    "\n",
    "# Create a Reddit object which allows us to interact with the Reddit API\n",
    "reddit = praw.Reddit(\n",
    "    client_id=sc.REDDIT_API_CLIENT_ID,\n",
    "    client_secret=sc.REDDIT_API_CLIENT_SECRET,\n",
    "    user_agent=sc.REDDIT_API_USER_AGENT\n",
    ")"
   ]
  },
  {
   "cell_type": "code",
   "execution_count": 2,
   "metadata": {
    "hidden": true
   },
   "outputs": [
    {
     "name": "stdout",
     "output_type": "stream",
     "text": [
      "<praw.reddit.Reddit object at 0x7fc332389850>\n"
     ]
    }
   ],
   "source": [
    "print(reddit) "
   ]
  },
  {
   "cell_type": "markdown",
   "metadata": {},
   "source": [
    "<details>\n",
    "<summary>Expected output:</summary>   \n",
    "\n",
    "```<praw.reddit.Reddit object at 0x10f8a0ac0>```\n",
    "</details>"
   ]
  },
  {
   "cell_type": "markdown",
   "metadata": {
    "hidden": true
   },
   "source": [
    "#### 4. Instantiate a `subreddit` object"
   ]
  },
  {
   "cell_type": "markdown",
   "metadata": {
    "hidden": true
   },
   "source": [
    "Lastly, create a `subreddit` object for your favorite subreddit and inspect the object. The expected output you will see ar from `r/machinelearning` unless otherwise specified."
   ]
  },
  {
   "cell_type": "code",
   "execution_count": 3,
   "metadata": {
    "hidden": true
   },
   "outputs": [],
   "source": [
    "# YOUR CODE HERE\n",
    "subreddit = reddit.subreddit(\"machinelearning\")"
   ]
  },
  {
   "cell_type": "markdown",
   "metadata": {
    "hidden": true
   },
   "source": [
    "What is the display name of the subreddit?"
   ]
  },
  {
   "cell_type": "code",
   "execution_count": 4,
   "metadata": {
    "hidden": true
   },
   "outputs": [
    {
     "name": "stdout",
     "output_type": "stream",
     "text": [
      "machinelearning\n"
     ]
    }
   ],
   "source": [
    "# YOUR CODE HERE\n",
    "print(subreddit.display_name)"
   ]
  },
  {
   "cell_type": "markdown",
   "metadata": {},
   "source": [
    "<details>\n",
    "<summary>Expected output:</summary>   \n",
    "\n",
    "    machinelearning\n",
    "</details>"
   ]
  },
  {
   "cell_type": "markdown",
   "metadata": {
    "hidden": true
   },
   "source": [
    "How about its title, is it different from the display name?"
   ]
  },
  {
   "cell_type": "code",
   "execution_count": 5,
   "metadata": {
    "hidden": true
   },
   "outputs": [
    {
     "name": "stdout",
     "output_type": "stream",
     "text": [
      "Machine Learning\n"
     ]
    }
   ],
   "source": [
    "# YOUR CODE HERE\n",
    "print(subreddit.title)"
   ]
  },
  {
   "cell_type": "markdown",
   "metadata": {},
   "source": [
    "<details>\n",
    "<summary>Expected output:</summary>   \n",
    "\n",
    "    Machine Learning\n",
    "</details>"
   ]
  },
  {
   "cell_type": "markdown",
   "metadata": {
    "hidden": true
   },
   "source": [
    "Print out the description of the subreddit:"
   ]
  },
  {
   "cell_type": "code",
   "execution_count": 6,
   "metadata": {
    "hidden": true,
    "scrolled": false
   },
   "outputs": [
    {
     "name": "stdout",
     "output_type": "stream",
     "text": [
      "**[Rules For Posts](https://www.reddit.com/r/MachineLearning/about/rules/)**\n",
      "--------\n",
      "+[Research](https://www.reddit.com/r/MachineLearning/search?sort=new&restrict_sr=on&q=flair%3AResearch)\n",
      "--------\n",
      "+[Discussion](https://www.reddit.com/r/MachineLearning/search?sort=new&restrict_sr=on&q=flair%3ADiscussion)\n",
      "--------\n",
      "+[Project](https://www.reddit.com/r/MachineLearning/search?sort=new&restrict_sr=on&q=flair%3AProject)\n",
      "--------\n",
      "+[News](https://www.reddit.com/r/MachineLearning/search?sort=new&restrict_sr=on&q=flair%3ANews)\n",
      "--------\n",
      "***[@slashML on Twitter](https://twitter.com/slashML)***\n",
      "--------\n",
      "***[Chat with us on Slack](https://join.slack.com/t/rml-talk/shared_invite/enQtNjkyMzI3NjA2NTY2LWY0ZmRjZjNhYjI5NzYwM2Y0YzZhZWNiODQ3ZGFjYmI2NTU3YjE1ZDU5MzM2ZTQ4ZGJmOTFmNWVkMzFiMzVhYjg)***\n",
      "--------\n",
      "**Beginners:**\n",
      "--------\n",
      "Please have a look at [our FAQ and Link-Collection](http://www.reddit.com/r/MachineLearning/wiki/index)\n",
      "\n",
      "[Metacademy](http://www.metacademy.org) is a great resource which compiles lesson plans on popular machine learning topics.\n",
      "\n",
      "For Beginner questions please try /r/LearnMachineLearning , /r/MLQuestions or http://stackoverflow.com/\n",
      "\n",
      "For career related questions, visit /r/cscareerquestions/\n",
      "\n",
      "--------\n",
      "\n",
      "[Advanced Courses (2016)](https://www.reddit.com/r/MachineLearning/comments/51qhc8/phdlevel_courses?st=isz2lqdk&sh=56c58cd6)\n",
      "\n",
      "[Advanced Courses (2020)](https://www.reddit.com/r/MachineLearning/comments/fdw0ax/d_advanced_courses_update/)\n",
      "\n",
      "--------\n",
      "**AMAs:**\n",
      "\n",
      "[Pluribus Poker AI Team 7/19/2019](https://www.reddit.com/r/MachineLearning/comments/ceece3/ama_we_are_noam_brown_and_tuomas_sandholm/)\n",
      "\n",
      "[DeepMind AlphaStar team (1/24//2019)](https://www.reddit.com/r/MachineLearning/comments/ajgzoc/we_are_oriol_vinyals_and_david_silver_from/)\n",
      "\n",
      "[Libratus Poker AI Team (12/18/2017)]\n",
      "(https://www.reddit.com/r/MachineLearning/comments/7jn12v/ama_we_are_noam_brown_and_professor_tuomas/)\n",
      "\n",
      "[DeepMind AlphaGo Team (10/19/2017)](https://www.reddit.com/r/MachineLearning/comments/76xjb5/ama_we_are_david_silver_and_julian_schrittwieser/)\n",
      "\n",
      "[Google Brain Team (9/17/2017)](https://www.reddit.com/r/MachineLearning/comments/6z51xb/we_are_the_google_brain_team_wed_love_to_answer/)\n",
      "\n",
      "[Google Brain Team (8/11/2016)]\n",
      "(https://www.reddit.com/r/MachineLearning/comments/4w6tsv/ama_we_are_the_google_brain_team_wed_love_to/)\n",
      "\n",
      "[The MalariaSpot Team (2/6/2016)](https://www.reddit.com/r/MachineLearning/comments/4m7ci1/ama_the_malariaspot_team/)\n",
      "\n",
      "[OpenAI Research Team (1/9/2016)](http://www.reddit.com/r/MachineLearning/comments/404r9m/ama_the_openai_research_team/)\n",
      "\n",
      "[Nando de Freitas (12/26/2015)](http://www.reddit.com/r/MachineLearning/comments/3y4zai/ama_nando_de_freitas/)\n",
      "\n",
      "[Andrew Ng and Adam Coates (4/15/2015)](http://www.reddit.com/r/MachineLearning/comments/32ihpe/ama_andrew_ng_and_adam_coates/)\n",
      "\n",
      "[Jürgen Schmidhuber (3/4/2015)](http://www.reddit.com/r/MachineLearning/comments/2xcyrl/i_am_j%C3%BCrgen_schmidhuber_ama/)\n",
      "\n",
      "[Geoffrey Hinton (11/10/2014)]\n",
      "(http://www.reddit.com/r/MachineLearning/comments/2lmo0l/ama_geoffrey_hinton/)\n",
      "\n",
      "[Michael Jordan (9/10/2014)](http://www.reddit.com/r/MachineLearning/comments/2fxi6v/ama_michael_i_jordan/)\n",
      "\n",
      "[Yann LeCun (5/15/2014)](http://www.reddit.com/r/MachineLearning/comments/25lnbt/ama_yann_lecun/)\n",
      "\n",
      "[Yoshua Bengio (2/27/2014)](http://www.reddit.com/r/MachineLearning/comments/1ysry1/ama_yoshua_bengio/)\n",
      "\n",
      "--------\n",
      "Related Subreddit :\n",
      "\n",
      "* [LearnMachineLearning](http://www.reddit.com/r/LearnMachineLearning)\n",
      "\n",
      "* [Statistics](http://www.reddit.com/r/statistics)\n",
      "\n",
      "* [Computer Vision](http://www.reddit.com/r/computervision)\n",
      "\n",
      "* [Compressive Sensing](http://www.reddit.com/r/CompressiveSensing/)\n",
      "\n",
      "* [NLP] (http://www.reddit.com/r/LanguageTechnology)\n",
      "\n",
      "* [ML Questions] (http://www.reddit.com/r/MLQuestions)\n",
      "\n",
      "* /r/MLjobs and /r/BigDataJobs\n",
      "\n",
      "* /r/datacleaning\n",
      "\n",
      "* /r/DataScience\n",
      "\n",
      "* /r/scientificresearch\n",
      "\n",
      "* /r/artificial\n"
     ]
    }
   ],
   "source": [
    "# YOUR CODE HERE\n",
    "print(subreddit.description)"
   ]
  },
  {
   "cell_type": "markdown",
   "metadata": {},
   "source": [
    "<details>\n",
    "<summary>Expected output:</summary>\n",
    "\n",
    "    **[Rules For Posts](https://www.reddit.com/r/MachineLearning/about/rules/)**\n",
    "    --------\n",
    "    +[Research](https://www.reddit.com/r/MachineLearning/search?sort=new&restrict_sr=on&q=flair%3AResearch)\n",
    "    --------\n",
    "    +[Discussion](https://www.reddit.com/r/MachineLearning/search?sort=new&restrict_sr=on&q=flair%3ADiscussion)\n",
    "    --------\n",
    "    +[Project](https://www.reddit.com/r/MachineLearning/search?sort=new&restrict_sr=on&q=flair%3AProject)\n",
    "    --------\n",
    "    +[News](https://www.reddit.com/r/MachineLearning/search?sort=new&restrict\n",
    "</details>"
   ]
  },
  {
   "cell_type": "markdown",
   "metadata": {
    "heading_collapsed": true
   },
   "source": [
    "### Task II: Parse comments"
   ]
  },
  {
   "cell_type": "markdown",
   "metadata": {
    "heading_collapsed": true,
    "hidden": true
   },
   "source": [
    "#### 1. Top Posts of All Time"
   ]
  },
  {
   "cell_type": "markdown",
   "metadata": {
    "hidden": true
   },
   "source": [
    "Find titles of top 10 posts of **all time** from your favorite subreddit. Refer to [Obtain Submission Instances from a Subreddit Section](https://praw.readthedocs.io/en/stable/getting_started/quick_start.html)) if necessary. Verify if the titles match what you read on Reddit."
   ]
  },
  {
   "cell_type": "code",
   "execution_count": 8,
   "metadata": {
    "hidden": true
   },
   "outputs": [],
   "source": [
    "# try run this line, what do you see? press q once you are done\n",
    "?subreddit.top"
   ]
  },
  {
   "cell_type": "code",
   "execution_count": 15,
   "metadata": {
    "hidden": true
   },
   "outputs": [
    {
     "name": "stdout",
     "output_type": "stream",
     "text": [
      "[Project] From books to presentations in 10s with AR + ML\n",
      "[D] A Demo from 1993 of 32-year-old Yann LeCun showing off the World's first Convolutional Network for Text Recognition\n",
      "[R] First Order Motion Model applied to animate paintings\n",
      "[N] AI can turn old photos into moving Images / Link is given in the comments - You can also turn your old photo like this\n",
      "[D] This AI reveals how much time politicians stare at their phone at work\n",
      "[D] Types of Machine Learning Papers\n",
      "[D] The machine learning community has a toxicity problem\n",
      "I made a robot that punishes me if it detects that if I am procrastinating on my assignments [P]\n",
      "[Project] NEW PYTHON PACKAGE: Sync GAN Art to Music with \"Lucid Sonic Dreams\"! (Link in Comments)\n",
      "[P] Using oil portraits and First Order Model to bring the paintings back to life\n"
     ]
    }
   ],
   "source": [
    "# YOUR CODE HERE\n",
    "for submission in subreddit.top(limit=10):\n",
    "    print(submission.title)"
   ]
  },
  {
   "cell_type": "markdown",
   "metadata": {
    "hidden": true
   },
   "source": [
    "<details> <summary>Expected output:</summary>\n",
    "\n",
    "    [Project] From books to presentations in 10s with AR + ML\n",
    "    [D] A Demo from 1993 of 32-year-old Yann LeCun showing off the World's first Convolutional Network for Text Recognition\n",
    "    [R] First Order Motion Model applied to animate paintings\n",
    "    [N] AI can turn old photos into moving Images / Link is given in the comments - You can also turn your old photo like this\n",
    "    [D] This AI reveals how much time politicians stare at their phone at work\n",
    "    [D] Types of Machine Learning Papers\n",
    "    [D] The machine learning community has a toxicity problem\n",
    "    [Project] NEW PYTHON PACKAGE: Sync GAN Art to Music with \"Lucid Sonic Dreams\"! (Link in Comments)\n",
    "    [P] Using oil portraits and First Order Model to bring the paintings back to life\n",
    "    [D] Convolution Neural Network Visualization - Made with Unity 3D and lots of Code / source - stefsietz (IG)    \n",
    "</details>"
   ]
  },
  {
   "cell_type": "markdown",
   "metadata": {
    "heading_collapsed": true,
    "hidden": true
   },
   "source": [
    "#### 2. Top 10 Posts of This Week"
   ]
  },
  {
   "cell_type": "markdown",
   "metadata": {
    "hidden": true
   },
   "source": [
    "What are the titles of the top 10 posts of **this week** from your favorite subreddit?"
   ]
  },
  {
   "cell_type": "code",
   "execution_count": 16,
   "metadata": {
    "hidden": true
   },
   "outputs": [
    {
     "name": "stdout",
     "output_type": "stream",
     "text": [
      "[P] Finetuned Diffusion: multiple fine-tuned Stable Diffusion models, trained on different styles\n",
      "[P] Transcribe any podcast episode in just 1 minute with optimized OpenAI/whisper\n",
      "[D] DALL·E to be made available as API, OpenAI to give users full ownership rights to generated images\n",
      "[P] Made a text generation model to extend stable diffusion prompts with suitable style cues\n",
      "[R] APPLE research: GAUDI — a neural architect for immersive 3D scene generation\n",
      "[P] Learn diffusion models with Hugging Face course 🧨\n",
      "[R] Reincarnating Reinforcement Learning (NeurIPS 2022) - Google Brain\n",
      "[N] Adversarial Policies Beat Professional-Level Go AIs\n",
      "[P] Fine Tuning Stable Diffusion: Naruto Character Edition\n",
      "[N] Meta AI | Evolutionary-scale prediction of atomic level protein structure with a language model\n"
     ]
    }
   ],
   "source": [
    "# YOUR CODE HERE\n",
    "for submission in subreddit.top(limit=10, time_filter=\"week\"):\n",
    "    print(submission.title)"
   ]
  },
  {
   "cell_type": "markdown",
   "metadata": {
    "hidden": true
   },
   "source": [
    "<details><summary>Expected output:</summary>\n",
    "\n",
    "    [N] Ian Goodfellow, Apple’s director of machine learning, is leaving the company due to its return to work policy. In a note to staff, he said “I believe strongly that more flexibility would have been the best policy for my team.” He was likely the company’s most cited ML expert.\n",
    "    [R][P] Thin-Plate Spline Motion Model for Image Animation + Gradio Web Demo\n",
    "    [P] I’ve been trying to understand the limits of some of the available machine learning models out there. Built an app that lets you try a mix of CLIP from Open AI + Apple’s version of MobileNet, and more directly on your phone's camera roll.\n",
    "    [R] Meta is releasing a 175B parameter language model\n",
    "    [N] Hugging Face raised $100M at $2B to double down on community, open-source & ethics\n",
    "    [P] T-SNE to view and order your Spotify tracks\n",
    "    [D] : HELP Finding a Book - A book written for Google Engineers about foundational Math to support ML\n",
    "    [R] Scaled up CLIP-like model (~2B) shows 86% Zero-shot on Imagenet\n",
    "    [D] Do you use NLTK or Spacy for text preprocessing?\n",
    "    [D] Democratizing Diffusion Models - LDMs: High-Resolution Image Synthesis with Latent Diffusion Models, a 5-minute paper summary by Casual GAN Papers\n",
    "</details>"
   ]
  },
  {
   "cell_type": "markdown",
   "metadata": {},
   "source": [
    "💽❓ Data Question:\n",
    "\n",
    "Check out what other attributes the `praw.models.Submission` class has in the [docs](https://praw.readthedocs.io/en/stable/code_overview/models/submission.html). \n",
    "\n",
    "1. After having a chance to look through the docs, is there any other information that you might want to extract? How might this additional data help you?\n",
    "\n",
    "Write a sample piece of code below extracting three additional pieces of information from the submission below."
   ]
  },
  {
   "cell_type": "code",
   "execution_count": 28,
   "metadata": {},
   "outputs": [
    {
     "name": "stdout",
     "output_type": "stream",
     "text": [
      "What person do you think could easily become the President of the United States if they decided to run for it?\n",
      "{'_comments': <praw.models.comment_forest.CommentForest object at 0x7f9406034b50>,\n",
      " '_comments_by_id': {'t1_ivgdd3p': Comment(id='ivgdd3p'),\n",
      "                     't1_ivgf2n1': Comment(id='ivgf2n1'),\n",
      "                     't1_ivgf94d': Comment(id='ivgf94d'),\n",
      "                     't1_ivggouk': Comment(id='ivggouk'),\n",
      "                     't1_ivgjb0j': Comment(id='ivgjb0j'),\n",
      "                     't1_ivgjfyu': Comment(id='ivgjfyu'),\n",
      "                     't1_ivgju2c': Comment(id='ivgju2c'),\n",
      "                     't1_ivglak1': Comment(id='ivglak1'),\n",
      "                     't1_ivglqmd': Comment(id='ivglqmd'),\n",
      "                     't1_ivgmj90': Comment(id='ivgmj90'),\n",
      "                     't1_ivgn22d': Comment(id='ivgn22d'),\n",
      "                     't1_ivgn6xx': Comment(id='ivgn6xx'),\n",
      "                     't1_ivgoe5w': Comment(id='ivgoe5w'),\n",
      "                     't1_ivgorni': Comment(id='ivgorni'),\n",
      "                     't1_ivgozgs': Comment(id='ivgozgs'),\n",
      "                     't1_ivgpsub': Comment(id='ivgpsub'),\n",
      "                     't1_ivgq24p': Comment(id='ivgq24p'),\n",
      "                     't1_ivgqsgw': Comment(id='ivgqsgw'),\n",
      "                     't1_ivgr1iv': Comment(id='ivgr1iv'),\n",
      "                     't1_ivgr6n0': Comment(id='ivgr6n0'),\n",
      "                     't1_ivgt166': Comment(id='ivgt166'),\n",
      "                     't1_ivgtdqb': Comment(id='ivgtdqb'),\n",
      "                     't1_ivgtr15': Comment(id='ivgtr15'),\n",
      "                     't1_ivguqgc': Comment(id='ivguqgc'),\n",
      "                     't1_ivgv046': Comment(id='ivgv046'),\n",
      "                     't1_ivgvdcd': Comment(id='ivgvdcd'),\n",
      "                     't1_ivgvxzd': Comment(id='ivgvxzd'),\n",
      "                     't1_ivgwbz4': Comment(id='ivgwbz4'),\n",
      "                     't1_ivgwwvs': Comment(id='ivgwwvs'),\n",
      "                     't1_ivgwxcm': Comment(id='ivgwxcm'),\n",
      "                     't1_ivgxb6z': Comment(id='ivgxb6z'),\n",
      "                     't1_ivgxioi': Comment(id='ivgxioi'),\n",
      "                     't1_ivgy14e': Comment(id='ivgy14e'),\n",
      "                     't1_ivgy5gg': Comment(id='ivgy5gg'),\n",
      "                     't1_ivgy5xc': Comment(id='ivgy5xc'),\n",
      "                     't1_ivgy6jm': Comment(id='ivgy6jm'),\n",
      "                     't1_ivgycjz': Comment(id='ivgycjz'),\n",
      "                     't1_ivgz441': Comment(id='ivgz441'),\n",
      "                     't1_ivgz7kh': Comment(id='ivgz7kh'),\n",
      "                     't1_ivgz81w': Comment(id='ivgz81w'),\n",
      "                     't1_ivgze7p': Comment(id='ivgze7p'),\n",
      "                     't1_ivgzpa9': Comment(id='ivgzpa9'),\n",
      "                     't1_ivgzxfy': Comment(id='ivgzxfy'),\n",
      "                     't1_ivh0498': Comment(id='ivh0498'),\n",
      "                     't1_ivh06r5': Comment(id='ivh06r5'),\n",
      "                     't1_ivh0gcn': Comment(id='ivh0gcn'),\n",
      "                     't1_ivh0jul': Comment(id='ivh0jul'),\n",
      "                     't1_ivh0r6z': Comment(id='ivh0r6z'),\n",
      "                     't1_ivh0smy': Comment(id='ivh0smy'),\n",
      "                     't1_ivh0u85': Comment(id='ivh0u85'),\n",
      "                     't1_ivh0v3t': Comment(id='ivh0v3t'),\n",
      "                     't1_ivh11p0': Comment(id='ivh11p0'),\n",
      "                     't1_ivh13bc': Comment(id='ivh13bc'),\n",
      "                     't1_ivh1a39': Comment(id='ivh1a39'),\n",
      "                     't1_ivh1ep8': Comment(id='ivh1ep8'),\n",
      "                     't1_ivh1ib4': Comment(id='ivh1ib4'),\n",
      "                     't1_ivh1lnq': Comment(id='ivh1lnq'),\n",
      "                     't1_ivh1oel': Comment(id='ivh1oel'),\n",
      "                     't1_ivh1rz8': Comment(id='ivh1rz8'),\n",
      "                     't1_ivh1scq': Comment(id='ivh1scq'),\n",
      "                     't1_ivh1ytc': Comment(id='ivh1ytc'),\n",
      "                     't1_ivh22rt': Comment(id='ivh22rt'),\n",
      "                     't1_ivh22zx': Comment(id='ivh22zx'),\n",
      "                     't1_ivh23c5': Comment(id='ivh23c5'),\n",
      "                     't1_ivh28du': Comment(id='ivh28du'),\n",
      "                     't1_ivh2fej': Comment(id='ivh2fej'),\n",
      "                     't1_ivh2jq1': Comment(id='ivh2jq1'),\n",
      "                     't1_ivh2jqk': Comment(id='ivh2jqk'),\n",
      "                     't1_ivh2pwg': Comment(id='ivh2pwg'),\n",
      "                     't1_ivh2rx3': Comment(id='ivh2rx3'),\n",
      "                     't1_ivh2tx9': Comment(id='ivh2tx9'),\n",
      "                     't1_ivh2yc4': Comment(id='ivh2yc4'),\n",
      "                     't1_ivh31i7': Comment(id='ivh31i7'),\n",
      "                     't1_ivh31jg': Comment(id='ivh31jg'),\n",
      "                     't1_ivh321k': Comment(id='ivh321k'),\n",
      "                     't1_ivh34tm': Comment(id='ivh34tm'),\n",
      "                     't1_ivh39fv': Comment(id='ivh39fv'),\n",
      "                     't1_ivh3gfq': Comment(id='ivh3gfq'),\n",
      "                     't1_ivh3pmf': Comment(id='ivh3pmf'),\n",
      "                     't1_ivh43o8': Comment(id='ivh43o8'),\n",
      "                     't1_ivh44mr': Comment(id='ivh44mr'),\n",
      "                     't1_ivh46u2': Comment(id='ivh46u2'),\n",
      "                     't1_ivh4bpd': Comment(id='ivh4bpd'),\n",
      "                     't1_ivh4bzz': Comment(id='ivh4bzz'),\n",
      "                     't1_ivh4e4k': Comment(id='ivh4e4k'),\n",
      "                     't1_ivh4h3e': Comment(id='ivh4h3e'),\n",
      "                     't1_ivh4l2t': Comment(id='ivh4l2t'),\n",
      "                     't1_ivh4lmc': Comment(id='ivh4lmc'),\n",
      "                     't1_ivh4mhx': Comment(id='ivh4mhx'),\n",
      "                     't1_ivh4nos': Comment(id='ivh4nos'),\n",
      "                     't1_ivh4sfu': Comment(id='ivh4sfu'),\n",
      "                     't1_ivh4xw2': Comment(id='ivh4xw2'),\n",
      "                     't1_ivh52ak': Comment(id='ivh52ak'),\n",
      "                     't1_ivh54xc': Comment(id='ivh54xc'),\n",
      "                     't1_ivh5gdy': Comment(id='ivh5gdy'),\n",
      "                     't1_ivh5p5g': Comment(id='ivh5p5g'),\n",
      "                     't1_ivh5ul2': Comment(id='ivh5ul2'),\n",
      "                     't1_ivh5y0m': Comment(id='ivh5y0m'),\n",
      "                     't1_ivh62hk': Comment(id='ivh62hk'),\n",
      "                     't1_ivh654l': Comment(id='ivh654l'),\n",
      "                     't1_ivh6702': Comment(id='ivh6702'),\n",
      "                     't1_ivh69fh': Comment(id='ivh69fh'),\n",
      "                     't1_ivh6bhz': Comment(id='ivh6bhz'),\n",
      "                     't1_ivh6cyf': Comment(id='ivh6cyf'),\n",
      "                     't1_ivh6dw1': Comment(id='ivh6dw1'),\n",
      "                     't1_ivh6f3q': Comment(id='ivh6f3q'),\n",
      "                     't1_ivh6jv7': Comment(id='ivh6jv7'),\n",
      "                     't1_ivh6kic': Comment(id='ivh6kic'),\n",
      "                     't1_ivh6sb5': Comment(id='ivh6sb5'),\n",
      "                     't1_ivh6st9': Comment(id='ivh6st9'),\n",
      "                     't1_ivh6syx': Comment(id='ivh6syx'),\n",
      "                     't1_ivh6txs': Comment(id='ivh6txs'),\n",
      "                     't1_ivh7c34': Comment(id='ivh7c34'),\n",
      "                     't1_ivh7fva': Comment(id='ivh7fva'),\n",
      "                     't1_ivh7g3h': Comment(id='ivh7g3h'),\n",
      "                     't1_ivh7h8q': Comment(id='ivh7h8q'),\n",
      "                     't1_ivh7irk': Comment(id='ivh7irk'),\n",
      "                     't1_ivh7k9z': Comment(id='ivh7k9z'),\n",
      "                     't1_ivh7lb2': Comment(id='ivh7lb2'),\n",
      "                     't1_ivh7mc6': Comment(id='ivh7mc6'),\n",
      "                     't1_ivh7r50': Comment(id='ivh7r50'),\n",
      "                     't1_ivh7r5c': Comment(id='ivh7r5c'),\n",
      "                     't1_ivh7sc0': Comment(id='ivh7sc0'),\n",
      "                     't1_ivh7uc1': Comment(id='ivh7uc1'),\n",
      "                     't1_ivh7xjl': Comment(id='ivh7xjl'),\n",
      "                     't1_ivh7y95': Comment(id='ivh7y95'),\n",
      "                     't1_ivh85nj': Comment(id='ivh85nj'),\n",
      "                     't1_ivh87n3': Comment(id='ivh87n3'),\n",
      "                     't1_ivh8a6q': Comment(id='ivh8a6q'),\n",
      "                     't1_ivh8brl': Comment(id='ivh8brl'),\n",
      "                     't1_ivh8by3': Comment(id='ivh8by3'),\n",
      "                     't1_ivh8m82': Comment(id='ivh8m82'),\n",
      "                     't1_ivh8phv': Comment(id='ivh8phv'),\n",
      "                     't1_ivh8tsg': Comment(id='ivh8tsg'),\n",
      "                     't1_ivh8u80': Comment(id='ivh8u80'),\n",
      "                     't1_ivh8vot': Comment(id='ivh8vot'),\n",
      "                     't1_ivh8xa0': Comment(id='ivh8xa0'),\n",
      "                     't1_ivh906q': Comment(id='ivh906q'),\n",
      "                     't1_ivh9094': Comment(id='ivh9094'),\n",
      "                     't1_ivh977q': Comment(id='ivh977q'),\n",
      "                     't1_ivh99c0': Comment(id='ivh99c0'),\n",
      "                     't1_ivh9d3x': Comment(id='ivh9d3x'),\n",
      "                     't1_ivh9f6y': Comment(id='ivh9f6y'),\n",
      "                     't1_ivh9imj': Comment(id='ivh9imj'),\n",
      "                     't1_ivh9jpp': Comment(id='ivh9jpp'),\n",
      "                     't1_ivh9l62': Comment(id='ivh9l62'),\n",
      "                     't1_ivh9mg3': Comment(id='ivh9mg3'),\n",
      "                     't1_ivh9nkr': Comment(id='ivh9nkr'),\n",
      "                     't1_ivh9o77': Comment(id='ivh9o77'),\n",
      "                     't1_ivh9qax': Comment(id='ivh9qax'),\n",
      "                     't1_ivh9tbi': Comment(id='ivh9tbi'),\n",
      "                     't1_ivh9x04': Comment(id='ivh9x04'),\n",
      "                     't1_ivh9x9f': Comment(id='ivh9x9f'),\n",
      "                     't1_ivh9ypt': Comment(id='ivh9ypt'),\n",
      "                     't1_ivha0de': Comment(id='ivha0de'),\n",
      "                     't1_ivha1wh': Comment(id='ivha1wh'),\n",
      "                     't1_ivha200': Comment(id='ivha200'),\n",
      "                     't1_ivha2oq': Comment(id='ivha2oq'),\n",
      "                     't1_ivha3zy': Comment(id='ivha3zy'),\n",
      "                     't1_ivha708': Comment(id='ivha708'),\n",
      "                     't1_ivha8xy': Comment(id='ivha8xy'),\n",
      "                     't1_ivhafon': Comment(id='ivhafon'),\n",
      "                     't1_ivhah51': Comment(id='ivhah51'),\n",
      "                     't1_ivhaitj': Comment(id='ivhaitj'),\n",
      "                     't1_ivhap2d': Comment(id='ivhap2d'),\n",
      "                     't1_ivhaq3h': Comment(id='ivhaq3h'),\n",
      "                     't1_ivharpe': Comment(id='ivharpe'),\n",
      "                     't1_ivhatuy': Comment(id='ivhatuy'),\n",
      "                     't1_ivhazn7': Comment(id='ivhazn7'),\n",
      "                     't1_ivhb1c3': Comment(id='ivhb1c3'),\n",
      "                     't1_ivhb3yb': Comment(id='ivhb3yb'),\n",
      "                     't1_ivhb43b': Comment(id='ivhb43b'),\n",
      "                     't1_ivhb4o6': Comment(id='ivhb4o6'),\n",
      "                     't1_ivhb8x0': Comment(id='ivhb8x0'),\n",
      "                     't1_ivhbbh5': Comment(id='ivhbbh5'),\n",
      "                     't1_ivhbchy': Comment(id='ivhbchy'),\n",
      "                     't1_ivhbefb': Comment(id='ivhbefb'),\n",
      "                     't1_ivhbfvo': Comment(id='ivhbfvo'),\n",
      "                     't1_ivhbfwb': Comment(id='ivhbfwb'),\n",
      "                     't1_ivhbg1h': Comment(id='ivhbg1h'),\n",
      "                     't1_ivhbgct': Comment(id='ivhbgct'),\n",
      "                     't1_ivhbk3r': Comment(id='ivhbk3r'),\n",
      "                     't1_ivhbm78': Comment(id='ivhbm78'),\n",
      "                     't1_ivhbmuy': Comment(id='ivhbmuy'),\n",
      "                     't1_ivhbnho': Comment(id='ivhbnho'),\n",
      "                     't1_ivhbojv': Comment(id='ivhbojv'),\n",
      "                     't1_ivhbolf': Comment(id='ivhbolf'),\n",
      "                     't1_ivhbqho': Comment(id='ivhbqho'),\n",
      "                     't1_ivhbr0n': Comment(id='ivhbr0n'),\n",
      "                     't1_ivhbtql': Comment(id='ivhbtql'),\n",
      "                     't1_ivhbuao': Comment(id='ivhbuao'),\n",
      "                     't1_ivhbv69': Comment(id='ivhbv69'),\n",
      "                     't1_ivhbz3m': Comment(id='ivhbz3m'),\n",
      "                     't1_ivhc0bk': Comment(id='ivhc0bk'),\n",
      "                     't1_ivhc0yt': Comment(id='ivhc0yt'),\n",
      "                     't1_ivhc2ij': Comment(id='ivhc2ij'),\n",
      "                     't1_ivhc37w': Comment(id='ivhc37w'),\n",
      "                     't1_ivhc4s8': Comment(id='ivhc4s8'),\n",
      "                     't1_ivhc7n2': Comment(id='ivhc7n2'),\n",
      "                     't1_ivhc84s': Comment(id='ivhc84s'),\n",
      "                     't1_ivhc8od': Comment(id='ivhc8od'),\n",
      "                     't1_ivhcafp': Comment(id='ivhcafp'),\n",
      "                     't1_ivhcb39': Comment(id='ivhcb39'),\n",
      "                     't1_ivhcfbs': Comment(id='ivhcfbs'),\n",
      "                     't1_ivhcfq2': Comment(id='ivhcfq2'),\n",
      "                     't1_ivhcgjd': Comment(id='ivhcgjd'),\n",
      "                     't1_ivhcglj': Comment(id='ivhcglj'),\n",
      "                     't1_ivhcj9k': Comment(id='ivhcj9k'),\n",
      "                     't1_ivhcpqf': Comment(id='ivhcpqf'),\n",
      "                     't1_ivhcrsj': Comment(id='ivhcrsj'),\n",
      "                     't1_ivhcrve': Comment(id='ivhcrve'),\n",
      "                     't1_ivhct6n': Comment(id='ivhct6n'),\n",
      "                     't1_ivhcw0m': Comment(id='ivhcw0m'),\n",
      "                     't1_ivhcxdg': Comment(id='ivhcxdg'),\n",
      "                     't1_ivhd3s9': Comment(id='ivhd3s9'),\n",
      "                     't1_ivhd9mf': Comment(id='ivhd9mf'),\n",
      "                     't1_ivhdf11': Comment(id='ivhdf11'),\n",
      "                     't1_ivhdhrf': Comment(id='ivhdhrf'),\n",
      "                     't1_ivhdilz': Comment(id='ivhdilz'),\n",
      "                     't1_ivhdlat': Comment(id='ivhdlat'),\n",
      "                     't1_ivhdltf': Comment(id='ivhdltf'),\n",
      "                     't1_ivhdmq4': Comment(id='ivhdmq4'),\n",
      "                     't1_ivhdqnm': Comment(id='ivhdqnm'),\n",
      "                     't1_ivhdv6y': Comment(id='ivhdv6y'),\n",
      "                     't1_ivhe1x9': Comment(id='ivhe1x9'),\n",
      "                     't1_ivhe22m': Comment(id='ivhe22m'),\n",
      "                     't1_ivhe7ya': Comment(id='ivhe7ya'),\n",
      "                     't1_ivhecu4': Comment(id='ivhecu4'),\n",
      "                     't1_ivheddu': Comment(id='ivheddu'),\n",
      "                     't1_ivhedhu': Comment(id='ivhedhu'),\n",
      "                     't1_ivheht2': Comment(id='ivheht2'),\n",
      "                     't1_ivhei30': Comment(id='ivhei30'),\n",
      "                     't1_ivhejte': Comment(id='ivhejte'),\n",
      "                     't1_ivhejx4': Comment(id='ivhejx4'),\n",
      "                     't1_ivhev6l': Comment(id='ivhev6l'),\n",
      "                     't1_ivhewc3': Comment(id='ivhewc3'),\n",
      "                     't1_ivhewll': Comment(id='ivhewll'),\n",
      "                     't1_ivhez3b': Comment(id='ivhez3b'),\n",
      "                     't1_ivhf11h': Comment(id='ivhf11h'),\n",
      "                     't1_ivhf24h': Comment(id='ivhf24h'),\n",
      "                     't1_ivhf2ev': Comment(id='ivhf2ev'),\n",
      "                     't1_ivhf87s': Comment(id='ivhf87s'),\n",
      "                     't1_ivhf96r': Comment(id='ivhf96r'),\n",
      "                     't1_ivhfcff': Comment(id='ivhfcff'),\n",
      "                     't1_ivhffuh': Comment(id='ivhffuh'),\n",
      "                     't1_ivhfk66': Comment(id='ivhfk66'),\n",
      "                     't1_ivhfni9': Comment(id='ivhfni9'),\n",
      "                     't1_ivhfpdt': Comment(id='ivhfpdt'),\n",
      "                     't1_ivhfyh5': Comment(id='ivhfyh5'),\n",
      "                     't1_ivhfz9k': Comment(id='ivhfz9k'),\n",
      "                     't1_ivhg05z': Comment(id='ivhg05z'),\n",
      "                     't1_ivhg093': Comment(id='ivhg093'),\n",
      "                     't1_ivhg1bz': Comment(id='ivhg1bz'),\n",
      "                     't1_ivhg6g1': Comment(id='ivhg6g1'),\n",
      "                     't1_ivhgayg': Comment(id='ivhgayg'),\n",
      "                     't1_ivhgcdm': Comment(id='ivhgcdm'),\n",
      "                     't1_ivhgdqy': Comment(id='ivhgdqy'),\n",
      "                     't1_ivhgii4': Comment(id='ivhgii4'),\n",
      "                     't1_ivhgjms': Comment(id='ivhgjms'),\n",
      "                     't1_ivhgju7': Comment(id='ivhgju7'),\n",
      "                     't1_ivhgkr6': Comment(id='ivhgkr6'),\n",
      "                     't1_ivhgl1s': Comment(id='ivhgl1s'),\n",
      "                     't1_ivhgsad': Comment(id='ivhgsad'),\n",
      "                     't1_ivhgu8f': Comment(id='ivhgu8f'),\n",
      "                     't1_ivhgva3': Comment(id='ivhgva3'),\n",
      "                     't1_ivhh2z5': Comment(id='ivhh2z5'),\n",
      "                     't1_ivhh3yv': Comment(id='ivhh3yv'),\n",
      "                     't1_ivhh68z': Comment(id='ivhh68z'),\n",
      "                     't1_ivhh9ut': Comment(id='ivhh9ut'),\n",
      "                     't1_ivhhbdi': Comment(id='ivhhbdi'),\n",
      "                     't1_ivhhclf': Comment(id='ivhhclf'),\n",
      "                     't1_ivhhjtu': Comment(id='ivhhjtu'),\n",
      "                     't1_ivhhmcl': Comment(id='ivhhmcl'),\n",
      "                     't1_ivhht6q': Comment(id='ivhht6q'),\n",
      "                     't1_ivhht8m': Comment(id='ivhht8m'),\n",
      "                     't1_ivhhwq5': Comment(id='ivhhwq5'),\n",
      "                     't1_ivhhx5v': Comment(id='ivhhx5v'),\n",
      "                     't1_ivhi0v8': Comment(id='ivhi0v8'),\n",
      "                     't1_ivhi3s8': Comment(id='ivhi3s8'),\n",
      "                     't1_ivhi3ss': Comment(id='ivhi3ss'),\n",
      "                     't1_ivhi4vo': Comment(id='ivhi4vo'),\n",
      "                     't1_ivhi759': Comment(id='ivhi759'),\n",
      "                     't1_ivhi76x': Comment(id='ivhi76x'),\n",
      "                     't1_ivhi9l8': Comment(id='ivhi9l8'),\n",
      "                     't1_ivhia9x': Comment(id='ivhia9x'),\n",
      "                     't1_ivhic6i': Comment(id='ivhic6i'),\n",
      "                     't1_ivhifx3': Comment(id='ivhifx3'),\n",
      "                     't1_ivhikes': Comment(id='ivhikes'),\n",
      "                     't1_ivhinlg': Comment(id='ivhinlg'),\n",
      "                     't1_ivhiu0i': Comment(id='ivhiu0i'),\n",
      "                     't1_ivhj0ph': Comment(id='ivhj0ph'),\n",
      "                     't1_ivhj8y4': Comment(id='ivhj8y4'),\n",
      "                     't1_ivhj9db': Comment(id='ivhj9db'),\n",
      "                     't1_ivhjc8d': Comment(id='ivhjc8d'),\n",
      "                     't1_ivhjd8q': Comment(id='ivhjd8q'),\n",
      "                     't1_ivhjje2': Comment(id='ivhjje2'),\n",
      "                     't1_ivhjoy1': Comment(id='ivhjoy1'),\n",
      "                     't1_ivhjqij': Comment(id='ivhjqij'),\n",
      "                     't1_ivhjrda': Comment(id='ivhjrda'),\n",
      "                     't1_ivhjt6s': Comment(id='ivhjt6s'),\n",
      "                     't1_ivhjvqy': Comment(id='ivhjvqy'),\n",
      "                     't1_ivhjvrs': Comment(id='ivhjvrs'),\n",
      "                     't1_ivhjx4u': Comment(id='ivhjx4u'),\n",
      "                     't1_ivhk8oj': Comment(id='ivhk8oj'),\n",
      "                     't1_ivhk9s7': Comment(id='ivhk9s7'),\n",
      "                     't1_ivhkbvr': Comment(id='ivhkbvr'),\n",
      "                     't1_ivhkc9m': Comment(id='ivhkc9m'),\n",
      "                     't1_ivhkdbz': Comment(id='ivhkdbz'),\n",
      "                     't1_ivhkemc': Comment(id='ivhkemc'),\n",
      "                     't1_ivhkfju': Comment(id='ivhkfju'),\n",
      "                     't1_ivhkfui': Comment(id='ivhkfui'),\n",
      "                     't1_ivhkijb': Comment(id='ivhkijb'),\n",
      "                     't1_ivhkikm': Comment(id='ivhkikm'),\n",
      "                     't1_ivhkj0j': Comment(id='ivhkj0j'),\n",
      "                     't1_ivhkmbj': Comment(id='ivhkmbj'),\n",
      "                     't1_ivhkmed': Comment(id='ivhkmed'),\n",
      "                     't1_ivhknr9': Comment(id='ivhknr9'),\n",
      "                     't1_ivhkpel': Comment(id='ivhkpel'),\n",
      "                     't1_ivhkqzb': Comment(id='ivhkqzb'),\n",
      "                     't1_ivhktet': Comment(id='ivhktet'),\n",
      "                     't1_ivhkwgh': Comment(id='ivhkwgh'),\n",
      "                     't1_ivhkwjc': Comment(id='ivhkwjc'),\n",
      "                     't1_ivhkxqo': Comment(id='ivhkxqo'),\n",
      "                     't1_ivhl0cf': Comment(id='ivhl0cf'),\n",
      "                     't1_ivhl4hl': Comment(id='ivhl4hl'),\n",
      "                     't1_ivhl6vk': Comment(id='ivhl6vk'),\n",
      "                     't1_ivhl7ho': Comment(id='ivhl7ho'),\n",
      "                     't1_ivhlchq': Comment(id='ivhlchq'),\n",
      "                     't1_ivhlfbr': Comment(id='ivhlfbr'),\n",
      "                     't1_ivhlgvb': Comment(id='ivhlgvb'),\n",
      "                     't1_ivhlieu': Comment(id='ivhlieu'),\n",
      "                     't1_ivhlifh': Comment(id='ivhlifh'),\n",
      "                     't1_ivhlk31': Comment(id='ivhlk31'),\n",
      "                     't1_ivhlklm': Comment(id='ivhlklm'),\n",
      "                     't1_ivhllrg': Comment(id='ivhllrg'),\n",
      "                     't1_ivhlo9b': Comment(id='ivhlo9b'),\n",
      "                     't1_ivhlsvo': Comment(id='ivhlsvo'),\n",
      "                     't1_ivhlyvm': Comment(id='ivhlyvm'),\n",
      "                     't1_ivhlzxn': Comment(id='ivhlzxn'),\n",
      "                     't1_ivhm22v': Comment(id='ivhm22v'),\n",
      "                     't1_ivhm32m': Comment(id='ivhm32m'),\n",
      "                     't1_ivhm3af': Comment(id='ivhm3af'),\n",
      "                     't1_ivhmahb': Comment(id='ivhmahb'),\n",
      "                     't1_ivhme1p': Comment(id='ivhme1p'),\n",
      "                     't1_ivhmlgb': Comment(id='ivhmlgb'),\n",
      "                     't1_ivhmphn': Comment(id='ivhmphn'),\n",
      "                     't1_ivhmsqr': Comment(id='ivhmsqr'),\n",
      "                     't1_ivhmsrn': Comment(id='ivhmsrn'),\n",
      "                     't1_ivhmuzv': Comment(id='ivhmuzv'),\n",
      "                     't1_ivhmxw1': Comment(id='ivhmxw1'),\n",
      "                     't1_ivhmywo': Comment(id='ivhmywo'),\n",
      "                     't1_ivhmz3n': Comment(id='ivhmz3n'),\n",
      "                     't1_ivhmzcw': Comment(id='ivhmzcw'),\n",
      "                     't1_ivhn10b': Comment(id='ivhn10b'),\n",
      "                     't1_ivhn419': Comment(id='ivhn419'),\n",
      "                     't1_ivhn51y': Comment(id='ivhn51y'),\n",
      "                     't1_ivhn7ds': Comment(id='ivhn7ds'),\n",
      "                     't1_ivhnag3': Comment(id='ivhnag3'),\n",
      "                     't1_ivhnd6v': Comment(id='ivhnd6v'),\n",
      "                     't1_ivhneps': Comment(id='ivhneps'),\n",
      "                     't1_ivhnfff': Comment(id='ivhnfff'),\n",
      "                     't1_ivhnm4f': Comment(id='ivhnm4f'),\n",
      "                     't1_ivhnoyh': Comment(id='ivhnoyh'),\n",
      "                     't1_ivhnv02': Comment(id='ivhnv02'),\n",
      "                     't1_ivho14v': Comment(id='ivho14v'),\n",
      "                     't1_ivhobem': Comment(id='ivhobem'),\n",
      "                     't1_ivhocy7': Comment(id='ivhocy7'),\n",
      "                     't1_ivhoef2': Comment(id='ivhoef2'),\n",
      "                     't1_ivhowko': Comment(id='ivhowko'),\n",
      "                     't1_ivhoy38': Comment(id='ivhoy38'),\n",
      "                     't1_ivhoz6s': Comment(id='ivhoz6s'),\n",
      "                     't1_ivhp1t5': Comment(id='ivhp1t5'),\n",
      "                     't1_ivhpeci': Comment(id='ivhpeci'),\n",
      "                     't1_ivhpmz7': Comment(id='ivhpmz7'),\n",
      "                     't1_ivhpocg': Comment(id='ivhpocg'),\n",
      "                     't1_ivhpps8': Comment(id='ivhpps8'),\n",
      "                     't1_ivhq0tk': Comment(id='ivhq0tk'),\n",
      "                     't1_ivhq6mi': Comment(id='ivhq6mi'),\n",
      "                     't1_ivhqcnr': Comment(id='ivhqcnr'),\n",
      "                     't1_ivhqidh': Comment(id='ivhqidh'),\n",
      "                     't1_ivhqns2': Comment(id='ivhqns2'),\n",
      "                     't1_ivhqp29': Comment(id='ivhqp29'),\n",
      "                     't1_ivhqpt6': Comment(id='ivhqpt6'),\n",
      "                     't1_ivhr99j': Comment(id='ivhr99j'),\n",
      "                     't1_ivhr9hd': Comment(id='ivhr9hd'),\n",
      "                     't1_ivhrbmk': Comment(id='ivhrbmk'),\n",
      "                     't1_ivhrhn6': Comment(id='ivhrhn6'),\n",
      "                     't1_ivhrih8': Comment(id='ivhrih8'),\n",
      "                     't1_ivhrjam': Comment(id='ivhrjam'),\n",
      "                     't1_ivhrsaj': Comment(id='ivhrsaj'),\n",
      "                     't1_ivhrt04': Comment(id='ivhrt04'),\n",
      "                     't1_ivhruyv': Comment(id='ivhruyv'),\n",
      "                     't1_ivhrzj7': Comment(id='ivhrzj7'),\n",
      "                     't1_ivhs261': Comment(id='ivhs261'),\n",
      "                     't1_ivhs9pk': Comment(id='ivhs9pk'),\n",
      "                     't1_ivhsixj': Comment(id='ivhsixj'),\n",
      "                     't1_ivhso6n': Comment(id='ivhso6n'),\n",
      "                     't1_ivhsuat': Comment(id='ivhsuat'),\n",
      "                     't1_ivhsw4g': Comment(id='ivhsw4g'),\n",
      "                     't1_ivhsxt1': Comment(id='ivhsxt1'),\n",
      "                     't1_ivht22m': Comment(id='ivht22m'),\n",
      "                     't1_ivht9qx': Comment(id='ivht9qx'),\n",
      "                     't1_ivhtbaf': Comment(id='ivhtbaf'),\n",
      "                     't1_ivhtbfv': Comment(id='ivhtbfv'),\n",
      "                     't1_ivhtbmy': Comment(id='ivhtbmy'),\n",
      "                     't1_ivhth1j': Comment(id='ivhth1j'),\n",
      "                     't1_ivhtk0d': Comment(id='ivhtk0d'),\n",
      "                     't1_ivhtl4p': Comment(id='ivhtl4p'),\n",
      "                     't1_ivhtlt8': Comment(id='ivhtlt8'),\n",
      "                     't1_ivhtpg7': Comment(id='ivhtpg7'),\n",
      "                     't1_ivhtuo5': Comment(id='ivhtuo5'),\n",
      "                     't1_ivhtwlm': Comment(id='ivhtwlm'),\n",
      "                     't1_ivhu1dp': Comment(id='ivhu1dp'),\n",
      "                     't1_ivhu3zz': Comment(id='ivhu3zz'),\n",
      "                     't1_ivhu4l1': Comment(id='ivhu4l1'),\n",
      "                     't1_ivhu5sh': Comment(id='ivhu5sh'),\n",
      "                     't1_ivhu70y': Comment(id='ivhu70y'),\n",
      "                     't1_ivhufir': Comment(id='ivhufir'),\n",
      "                     't1_ivhuik8': Comment(id='ivhuik8'),\n",
      "                     't1_ivhuk9r': Comment(id='ivhuk9r'),\n",
      "                     't1_ivhupbi': Comment(id='ivhupbi'),\n",
      "                     't1_ivhuran': Comment(id='ivhuran'),\n",
      "                     't1_ivhuslj': Comment(id='ivhuslj'),\n",
      "                     't1_ivhusuh': Comment(id='ivhusuh'),\n",
      "                     't1_ivhutdi': Comment(id='ivhutdi'),\n",
      "                     't1_ivhuuwv': Comment(id='ivhuuwv'),\n",
      "                     't1_ivhv17i': Comment(id='ivhv17i'),\n",
      "                     't1_ivhv2wc': Comment(id='ivhv2wc'),\n",
      "                     't1_ivhvbfp': Comment(id='ivhvbfp'),\n",
      "                     't1_ivhvrls': Comment(id='ivhvrls'),\n",
      "                     't1_ivhvtk3': Comment(id='ivhvtk3'),\n",
      "                     't1_ivhw4z8': Comment(id='ivhw4z8'),\n",
      "                     't1_ivhw7hf': Comment(id='ivhw7hf'),\n",
      "                     't1_ivhw9at': Comment(id='ivhw9at'),\n",
      "                     't1_ivhwd2s': Comment(id='ivhwd2s'),\n",
      "                     't1_ivhwjyn': Comment(id='ivhwjyn'),\n",
      "                     't1_ivhwmai': Comment(id='ivhwmai'),\n",
      "                     't1_ivhwpud': Comment(id='ivhwpud'),\n",
      "                     't1_ivhx3km': Comment(id='ivhx3km'),\n",
      "                     't1_ivhx4ss': Comment(id='ivhx4ss'),\n",
      "                     't1_ivhx6qv': Comment(id='ivhx6qv'),\n",
      "                     't1_ivhx91d': Comment(id='ivhx91d'),\n",
      "                     't1_ivhxelu': Comment(id='ivhxelu'),\n",
      "                     't1_ivhxl7e': Comment(id='ivhxl7e'),\n",
      "                     't1_ivhxopu': Comment(id='ivhxopu'),\n",
      "                     't1_ivhxpg7': Comment(id='ivhxpg7'),\n",
      "                     't1_ivhxs76': Comment(id='ivhxs76'),\n",
      "                     't1_ivhy4f1': Comment(id='ivhy4f1'),\n",
      "                     't1_ivhyfor': Comment(id='ivhyfor'),\n",
      "                     't1_ivhyj7o': Comment(id='ivhyj7o'),\n",
      "                     't1_ivhypjp': Comment(id='ivhypjp'),\n",
      "                     't1_ivhyr1k': Comment(id='ivhyr1k'),\n",
      "                     't1_ivhyrtc': Comment(id='ivhyrtc'),\n",
      "                     't1_ivhysk0': Comment(id='ivhysk0'),\n",
      "                     't1_ivhysoc': Comment(id='ivhysoc'),\n",
      "                     't1_ivhyvpm': Comment(id='ivhyvpm'),\n",
      "                     't1_ivhz0dj': Comment(id='ivhz0dj'),\n",
      "                     't1_ivhz2jb': Comment(id='ivhz2jb'),\n",
      "                     't1_ivhz4ju': Comment(id='ivhz4ju'),\n",
      "                     't1_ivhz8xd': Comment(id='ivhz8xd'),\n",
      "                     't1_ivhza36': Comment(id='ivhza36'),\n",
      "                     't1_ivhzbrj': Comment(id='ivhzbrj'),\n",
      "                     't1_ivhzg0b': Comment(id='ivhzg0b'),\n",
      "                     't1_ivhzzaj': Comment(id='ivhzzaj'),\n",
      "                     't1_ivi04fl': Comment(id='ivi04fl'),\n",
      "                     't1_ivi04kc': Comment(id='ivi04kc'),\n",
      "                     't1_ivi0a7x': Comment(id='ivi0a7x'),\n",
      "                     't1_ivi0rz7': Comment(id='ivi0rz7'),\n",
      "                     't1_ivi0u45': Comment(id='ivi0u45'),\n",
      "                     't1_ivi0yph': Comment(id='ivi0yph'),\n",
      "                     't1_ivi10bj': Comment(id='ivi10bj'),\n",
      "                     't1_ivi10ji': Comment(id='ivi10ji'),\n",
      "                     't1_ivi1alg': Comment(id='ivi1alg'),\n",
      "                     't1_ivi1iy7': Comment(id='ivi1iy7'),\n",
      "                     't1_ivi1yqo': Comment(id='ivi1yqo'),\n",
      "                     't1_ivi1zqi': Comment(id='ivi1zqi'),\n",
      "                     't1_ivi21zr': Comment(id='ivi21zr'),\n",
      "                     't1_ivi25w3': Comment(id='ivi25w3'),\n",
      "                     't1_ivi29ra': Comment(id='ivi29ra'),\n",
      "                     't1_ivi2hap': Comment(id='ivi2hap'),\n",
      "                     't1_ivi2y61': Comment(id='ivi2y61'),\n",
      "                     't1_ivi38t9': Comment(id='ivi38t9'),\n",
      "                     't1_ivi3ajs': Comment(id='ivi3ajs'),\n",
      "                     't1_ivi3gfa': Comment(id='ivi3gfa'),\n",
      "                     't1_ivi3zwq': Comment(id='ivi3zwq'),\n",
      "                     't1_ivi4dq5': Comment(id='ivi4dq5'),\n",
      "                     't1_ivi4nje': Comment(id='ivi4nje'),\n",
      "                     't1_ivi4st2': Comment(id='ivi4st2'),\n",
      "                     't1_ivi4u6s': Comment(id='ivi4u6s'),\n",
      "                     't1_ivi4x6x': Comment(id='ivi4x6x'),\n",
      "                     't1_ivi4xka': Comment(id='ivi4xka'),\n",
      "                     't1_ivi52fp': Comment(id='ivi52fp'),\n",
      "                     't1_ivi5tq2': Comment(id='ivi5tq2'),\n",
      "                     't1_ivi6377': Comment(id='ivi6377'),\n",
      "                     't1_ivi6qwi': Comment(id='ivi6qwi'),\n",
      "                     't1_ivi6z2c': Comment(id='ivi6z2c'),\n",
      "                     't1_ivi72hf': Comment(id='ivi72hf'),\n",
      "                     't1_ivi896e': Comment(id='ivi896e'),\n",
      "                     't1_ivibwu7': Comment(id='ivibwu7'),\n",
      "                     't1_ivicu5o': Comment(id='ivicu5o')},\n",
      " '_fetched': True,\n",
      " '_reddit': <praw.reddit.Reddit object at 0x7f940322fa60>,\n",
      " 'all_awardings': [{'award_sub_type': 'PREMIUM',\n",
      "                    'award_type': 'global',\n",
      "                    'awardings_required_to_grant_benefits': None,\n",
      "                    'coin_price': 30,\n",
      "                    'coin_reward': 0,\n",
      "                    'count': 1,\n",
      "                    'days_of_drip_extension': None,\n",
      "                    'days_of_premium': None,\n",
      "                    'description': 'A glowing commendation for all to see',\n",
      "                    'end_date': None,\n",
      "                    'giver_coin_reward': None,\n",
      "                    'icon_format': 'APNG',\n",
      "                    'icon_height': 2048,\n",
      "                    'icon_url': 'https://www.redditstatic.com/gold/awards/icon/Illuminati_512.png',\n",
      "                    'icon_width': 2048,\n",
      "                    'id': 'award_b4ff447e-05a5-42dc-9002-63568807cfe6',\n",
      "                    'is_enabled': True,\n",
      "                    'is_new': False,\n",
      "                    'name': 'All-Seeing Upvote',\n",
      "                    'penny_donate': None,\n",
      "                    'penny_price': None,\n",
      "                    'resized_icons': [{'height': 16,\n",
      "                                       'url': 'https://www.redditstatic.com/gold/awards/icon/Illuminati_16.png',\n",
      "                                       'width': 16},\n",
      "                                      {'height': 32,\n",
      "                                       'url': 'https://www.redditstatic.com/gold/awards/icon/Illuminati_32.png',\n",
      "                                       'width': 32},\n",
      "                                      {'height': 48,\n",
      "                                       'url': 'https://www.redditstatic.com/gold/awards/icon/Illuminati_48.png',\n",
      "                                       'width': 48},\n",
      "                                      {'height': 64,\n",
      "                                       'url': 'https://www.redditstatic.com/gold/awards/icon/Illuminati_64.png',\n",
      "                                       'width': 64},\n",
      "                                      {'height': 128,\n",
      "                                       'url': 'https://www.redditstatic.com/gold/awards/icon/Illuminati_128.png',\n",
      "                                       'width': 128}],\n",
      "                    'resized_static_icons': [{'height': 16,\n",
      "                                              'url': 'https://preview.redd.it/award_images/t5_q0gj4/am40b8b08l581_All-SeeingUpvote2.png?width=16&height=16&auto=webp&s=978c93744e53b8c9305467a7be792e5c401eac6c',\n",
      "                                              'width': 16},\n",
      "                                             {'height': 32,\n",
      "                                              'url': 'https://preview.redd.it/award_images/t5_q0gj4/am40b8b08l581_All-SeeingUpvote2.png?width=32&height=32&auto=webp&s=d2ee343eef5048ad3add75d4a4d4e3922bb9565a',\n",
      "                                              'width': 32},\n",
      "                                             {'height': 48,\n",
      "                                              'url': 'https://preview.redd.it/award_images/t5_q0gj4/am40b8b08l581_All-SeeingUpvote2.png?width=48&height=48&auto=webp&s=7d216fd3a05c61d9fb75b27092844c546d958f14',\n",
      "                                              'width': 48},\n",
      "                                             {'height': 64,\n",
      "                                              'url': 'https://preview.redd.it/award_images/t5_q0gj4/am40b8b08l581_All-SeeingUpvote2.png?width=64&height=64&auto=webp&s=b76693f84fd19b04d0c0444a9812d812105e2d8f',\n",
      "                                              'width': 64},\n",
      "                                             {'height': 128,\n",
      "                                              'url': 'https://preview.redd.it/award_images/t5_q0gj4/am40b8b08l581_All-SeeingUpvote2.png?width=128&height=128&auto=webp&s=5353352ae9f443c353ef0b7725dabcfc1b3829a5',\n",
      "                                              'width': 128}],\n",
      "                    'start_date': None,\n",
      "                    'static_icon_height': 2048,\n",
      "                    'static_icon_url': 'https://i.redd.it/award_images/t5_q0gj4/am40b8b08l581_All-SeeingUpvote2.png',\n",
      "                    'static_icon_width': 2048,\n",
      "                    'sticky_duration_seconds': None,\n",
      "                    'subreddit_coin_reward': 0,\n",
      "                    'subreddit_id': None,\n",
      "                    'tiers_by_required_awardings': None},\n",
      "                   {'award_sub_type': 'GLOBAL',\n",
      "                    'award_type': 'global',\n",
      "                    'awardings_required_to_grant_benefits': None,\n",
      "                    'coin_price': 10,\n",
      "                    'coin_reward': 0,\n",
      "                    'count': 2,\n",
      "                    'days_of_drip_extension': None,\n",
      "                    'days_of_premium': None,\n",
      "                    'description': '',\n",
      "                    'end_date': None,\n",
      "                    'giver_coin_reward': None,\n",
      "                    'icon_format': 'PNG',\n",
      "                    'icon_height': 2048,\n",
      "                    'icon_url': 'https://i.redd.it/award_images/t5_22cerq/tt7czbyfsmw91_GoVote.png',\n",
      "                    'icon_width': 2048,\n",
      "                    'id': 'award_104aae3c-f7ef-40ec-a6ca-0e71dd4b8c31',\n",
      "                    'is_enabled': True,\n",
      "                    'is_new': False,\n",
      "                    'name': 'Go Vote!',\n",
      "                    'penny_donate': None,\n",
      "                    'penny_price': 0,\n",
      "                    'resized_icons': [{'height': 16,\n",
      "                                       'url': 'https://preview.redd.it/award_images/t5_22cerq/tt7czbyfsmw91_GoVote.png?width=16&height=16&auto=webp&s=397db3f76b6089dd8c02f667a6ddffe916e37a8f',\n",
      "                                       'width': 16},\n",
      "                                      {'height': 32,\n",
      "                                       'url': 'https://preview.redd.it/award_images/t5_22cerq/tt7czbyfsmw91_GoVote.png?width=32&height=32&auto=webp&s=0cc4399329493d4655055e177992d1b4aca966cd',\n",
      "                                       'width': 32},\n",
      "                                      {'height': 48,\n",
      "                                       'url': 'https://preview.redd.it/award_images/t5_22cerq/tt7czbyfsmw91_GoVote.png?width=48&height=48&auto=webp&s=cf5784dc8c93c891cd7c9a62bd3d994dfe0edaa5',\n",
      "                                       'width': 48},\n",
      "                                      {'height': 64,\n",
      "                                       'url': 'https://preview.redd.it/award_images/t5_22cerq/tt7czbyfsmw91_GoVote.png?width=64&height=64&auto=webp&s=1d3ada6feab2fa641c3517312fee972632a70e5f',\n",
      "                                       'width': 64},\n",
      "                                      {'height': 128,\n",
      "                                       'url': 'https://preview.redd.it/award_images/t5_22cerq/tt7czbyfsmw91_GoVote.png?width=128&height=128&auto=webp&s=b6b6947dc7068dcde58fc7dfabe1a9fafed3993b',\n",
      "                                       'width': 128}],\n",
      "                    'resized_static_icons': [{'height': 16,\n",
      "                                              'url': 'https://preview.redd.it/award_images/t5_22cerq/tt7czbyfsmw91_GoVote.png?width=16&height=16&auto=webp&s=397db3f76b6089dd8c02f667a6ddffe916e37a8f',\n",
      "                                              'width': 16},\n",
      "                                             {'height': 32,\n",
      "                                              'url': 'https://preview.redd.it/award_images/t5_22cerq/tt7czbyfsmw91_GoVote.png?width=32&height=32&auto=webp&s=0cc4399329493d4655055e177992d1b4aca966cd',\n",
      "                                              'width': 32},\n",
      "                                             {'height': 48,\n",
      "                                              'url': 'https://preview.redd.it/award_images/t5_22cerq/tt7czbyfsmw91_GoVote.png?width=48&height=48&auto=webp&s=cf5784dc8c93c891cd7c9a62bd3d994dfe0edaa5',\n",
      "                                              'width': 48},\n",
      "                                             {'height': 64,\n",
      "                                              'url': 'https://preview.redd.it/award_images/t5_22cerq/tt7czbyfsmw91_GoVote.png?width=64&height=64&auto=webp&s=1d3ada6feab2fa641c3517312fee972632a70e5f',\n",
      "                                              'width': 64},\n",
      "                                             {'height': 128,\n",
      "                                              'url': 'https://preview.redd.it/award_images/t5_22cerq/tt7czbyfsmw91_GoVote.png?width=128&height=128&auto=webp&s=b6b6947dc7068dcde58fc7dfabe1a9fafed3993b',\n",
      "                                              'width': 128}],\n",
      "                    'start_date': None,\n",
      "                    'static_icon_height': 2048,\n",
      "                    'static_icon_url': 'https://i.redd.it/award_images/t5_22cerq/tt7czbyfsmw91_GoVote.png',\n",
      "                    'static_icon_width': 2048,\n",
      "                    'sticky_duration_seconds': None,\n",
      "                    'subreddit_coin_reward': 0,\n",
      "                    'subreddit_id': None,\n",
      "                    'tiers_by_required_awardings': None},\n",
      "                   {'award_sub_type': 'GLOBAL',\n",
      "                    'award_type': 'global',\n",
      "                    'awardings_required_to_grant_benefits': None,\n",
      "                    'coin_price': 10,\n",
      "                    'coin_reward': 0,\n",
      "                    'count': 1,\n",
      "                    'days_of_drip_extension': None,\n",
      "                    'days_of_premium': None,\n",
      "                    'description': '',\n",
      "                    'end_date': None,\n",
      "                    'giver_coin_reward': None,\n",
      "                    'icon_format': 'PNG',\n",
      "                    'icon_height': 2048,\n",
      "                    'icon_url': 'https://i.redd.it/award_images/t5_22cerq/umy1jevfumw91_IVoted.png',\n",
      "                    'icon_width': 2048,\n",
      "                    'id': 'award_d18d4ebe-2e14-4d1f-9b98-bddd9804652f',\n",
      "                    'is_enabled': True,\n",
      "                    'is_new': False,\n",
      "                    'name': 'I Voted',\n",
      "                    'penny_donate': None,\n",
      "                    'penny_price': 0,\n",
      "                    'resized_icons': [{'height': 16,\n",
      "                                       'url': 'https://preview.redd.it/award_images/t5_22cerq/umy1jevfumw91_IVoted.png?width=16&height=16&auto=webp&s=6e67c316bd1ece451fdef8aea6bad02aefcf285b',\n",
      "                                       'width': 16},\n",
      "                                      {'height': 32,\n",
      "                                       'url': 'https://preview.redd.it/award_images/t5_22cerq/umy1jevfumw91_IVoted.png?width=32&height=32&auto=webp&s=58b782b64dee579209c89aa548d4ae141a7ede48',\n",
      "                                       'width': 32},\n",
      "                                      {'height': 48,\n",
      "                                       'url': 'https://preview.redd.it/award_images/t5_22cerq/umy1jevfumw91_IVoted.png?width=48&height=48&auto=webp&s=8725039b185edd599d24fdbfd1f56ce871492d25',\n",
      "                                       'width': 48},\n",
      "                                      {'height': 64,\n",
      "                                       'url': 'https://preview.redd.it/award_images/t5_22cerq/umy1jevfumw91_IVoted.png?width=64&height=64&auto=webp&s=5bdfbc49aff28aeb834ac49cb7ff98a6ffe3edcd',\n",
      "                                       'width': 64},\n",
      "                                      {'height': 128,\n",
      "                                       'url': 'https://preview.redd.it/award_images/t5_22cerq/umy1jevfumw91_IVoted.png?width=128&height=128&auto=webp&s=ca142c13005e1e333a77f4bf69b7ee57cca259d3',\n",
      "                                       'width': 128}],\n",
      "                    'resized_static_icons': [{'height': 16,\n",
      "                                              'url': 'https://preview.redd.it/award_images/t5_22cerq/umy1jevfumw91_IVoted.png?width=16&height=16&auto=webp&s=6e67c316bd1ece451fdef8aea6bad02aefcf285b',\n",
      "                                              'width': 16},\n",
      "                                             {'height': 32,\n",
      "                                              'url': 'https://preview.redd.it/award_images/t5_22cerq/umy1jevfumw91_IVoted.png?width=32&height=32&auto=webp&s=58b782b64dee579209c89aa548d4ae141a7ede48',\n",
      "                                              'width': 32},\n",
      "                                             {'height': 48,\n",
      "                                              'url': 'https://preview.redd.it/award_images/t5_22cerq/umy1jevfumw91_IVoted.png?width=48&height=48&auto=webp&s=8725039b185edd599d24fdbfd1f56ce871492d25',\n",
      "                                              'width': 48},\n",
      "                                             {'height': 64,\n",
      "                                              'url': 'https://preview.redd.it/award_images/t5_22cerq/umy1jevfumw91_IVoted.png?width=64&height=64&auto=webp&s=5bdfbc49aff28aeb834ac49cb7ff98a6ffe3edcd',\n",
      "                                              'width': 64},\n",
      "                                             {'height': 128,\n",
      "                                              'url': 'https://preview.redd.it/award_images/t5_22cerq/umy1jevfumw91_IVoted.png?width=128&height=128&auto=webp&s=ca142c13005e1e333a77f4bf69b7ee57cca259d3',\n",
      "                                              'width': 128}],\n",
      "                    'start_date': None,\n",
      "                    'static_icon_height': 2048,\n",
      "                    'static_icon_url': 'https://i.redd.it/award_images/t5_22cerq/umy1jevfumw91_IVoted.png',\n",
      "                    'static_icon_width': 2048,\n",
      "                    'sticky_duration_seconds': None,\n",
      "                    'subreddit_coin_reward': 0,\n",
      "                    'subreddit_id': None,\n",
      "                    'tiers_by_required_awardings': None},\n",
      "                   {'award_sub_type': 'GLOBAL',\n",
      "                    'award_type': 'global',\n",
      "                    'awardings_required_to_grant_benefits': None,\n",
      "                    'coin_price': 100,\n",
      "                    'coin_reward': 0,\n",
      "                    'count': 2,\n",
      "                    'days_of_drip_extension': None,\n",
      "                    'days_of_premium': None,\n",
      "                    'description': \"Shows the Silver Award... and that's it.\",\n",
      "                    'end_date': None,\n",
      "                    'giver_coin_reward': None,\n",
      "                    'icon_format': None,\n",
      "                    'icon_height': 512,\n",
      "                    'icon_url': 'https://www.redditstatic.com/gold/awards/icon/silver_512.png',\n",
      "                    'icon_width': 512,\n",
      "                    'id': 'gid_1',\n",
      "                    'is_enabled': True,\n",
      "                    'is_new': False,\n",
      "                    'name': 'Silver',\n",
      "                    'penny_donate': None,\n",
      "                    'penny_price': None,\n",
      "                    'resized_icons': [{'height': 16,\n",
      "                                       'url': 'https://www.redditstatic.com/gold/awards/icon/silver_16.png',\n",
      "                                       'width': 16},\n",
      "                                      {'height': 32,\n",
      "                                       'url': 'https://www.redditstatic.com/gold/awards/icon/silver_32.png',\n",
      "                                       'width': 32},\n",
      "                                      {'height': 48,\n",
      "                                       'url': 'https://www.redditstatic.com/gold/awards/icon/silver_48.png',\n",
      "                                       'width': 48},\n",
      "                                      {'height': 64,\n",
      "                                       'url': 'https://www.redditstatic.com/gold/awards/icon/silver_64.png',\n",
      "                                       'width': 64},\n",
      "                                      {'height': 128,\n",
      "                                       'url': 'https://www.redditstatic.com/gold/awards/icon/silver_128.png',\n",
      "                                       'width': 128}],\n",
      "                    'resized_static_icons': [{'height': 16,\n",
      "                                              'url': 'https://www.redditstatic.com/gold/awards/icon/silver_16.png',\n",
      "                                              'width': 16},\n",
      "                                             {'height': 32,\n",
      "                                              'url': 'https://www.redditstatic.com/gold/awards/icon/silver_32.png',\n",
      "                                              'width': 32},\n",
      "                                             {'height': 48,\n",
      "                                              'url': 'https://www.redditstatic.com/gold/awards/icon/silver_48.png',\n",
      "                                              'width': 48},\n",
      "                                             {'height': 64,\n",
      "                                              'url': 'https://www.redditstatic.com/gold/awards/icon/silver_64.png',\n",
      "                                              'width': 64},\n",
      "                                             {'height': 128,\n",
      "                                              'url': 'https://www.redditstatic.com/gold/awards/icon/silver_128.png',\n",
      "                                              'width': 128}],\n",
      "                    'start_date': None,\n",
      "                    'static_icon_height': 512,\n",
      "                    'static_icon_url': 'https://www.redditstatic.com/gold/awards/icon/silver_512.png',\n",
      "                    'static_icon_width': 512,\n",
      "                    'sticky_duration_seconds': None,\n",
      "                    'subreddit_coin_reward': 0,\n",
      "                    'subreddit_id': None,\n",
      "                    'tiers_by_required_awardings': None},\n",
      "                   {'award_sub_type': 'GLOBAL',\n",
      "                    'award_type': 'global',\n",
      "                    'awardings_required_to_grant_benefits': None,\n",
      "                    'coin_price': 150,\n",
      "                    'coin_reward': 0,\n",
      "                    'count': 3,\n",
      "                    'days_of_drip_extension': None,\n",
      "                    'days_of_premium': None,\n",
      "                    'description': 'Thank you stranger. Shows the award.',\n",
      "                    'end_date': None,\n",
      "                    'giver_coin_reward': None,\n",
      "                    'icon_format': None,\n",
      "                    'icon_height': 2048,\n",
      "                    'icon_url': 'https://i.redd.it/award_images/t5_22cerq/klvxk1wggfd41_Helpful.png',\n",
      "                    'icon_width': 2048,\n",
      "                    'id': 'award_f44611f1-b89e-46dc-97fe-892280b13b82',\n",
      "                    'is_enabled': True,\n",
      "                    'is_new': False,\n",
      "                    'name': 'Helpful',\n",
      "                    'penny_donate': None,\n",
      "                    'penny_price': None,\n",
      "                    'resized_icons': [{'height': 16,\n",
      "                                       'url': 'https://preview.redd.it/award_images/t5_22cerq/klvxk1wggfd41_Helpful.png?width=16&height=16&auto=webp&s=a5662dfbdb402bf67866c050aa76c31c147c2f45',\n",
      "                                       'width': 16},\n",
      "                                      {'height': 32,\n",
      "                                       'url': 'https://preview.redd.it/award_images/t5_22cerq/klvxk1wggfd41_Helpful.png?width=32&height=32&auto=webp&s=a6882eb3f380e8e88009789f4d0072e17b8c59f1',\n",
      "                                       'width': 32},\n",
      "                                      {'height': 48,\n",
      "                                       'url': 'https://preview.redd.it/award_images/t5_22cerq/klvxk1wggfd41_Helpful.png?width=48&height=48&auto=webp&s=e50064b090879e8a0b55e433f6ee61d5cb5fbe1d',\n",
      "                                       'width': 48},\n",
      "                                      {'height': 64,\n",
      "                                       'url': 'https://preview.redd.it/award_images/t5_22cerq/klvxk1wggfd41_Helpful.png?width=64&height=64&auto=webp&s=8e5bb2e76683cb6b161830bcdd9642049d6adc11',\n",
      "                                       'width': 64},\n",
      "                                      {'height': 128,\n",
      "                                       'url': 'https://preview.redd.it/award_images/t5_22cerq/klvxk1wggfd41_Helpful.png?width=128&height=128&auto=webp&s=eda4a9246f95f42ee6940cc0ec65306fd20de878',\n",
      "                                       'width': 128}],\n",
      "                    'resized_static_icons': [{'height': 16,\n",
      "                                              'url': 'https://preview.redd.it/award_images/t5_22cerq/klvxk1wggfd41_Helpful.png?width=16&height=16&auto=webp&s=a5662dfbdb402bf67866c050aa76c31c147c2f45',\n",
      "                                              'width': 16},\n",
      "                                             {'height': 32,\n",
      "                                              'url': 'https://preview.redd.it/award_images/t5_22cerq/klvxk1wggfd41_Helpful.png?width=32&height=32&auto=webp&s=a6882eb3f380e8e88009789f4d0072e17b8c59f1',\n",
      "                                              'width': 32},\n",
      "                                             {'height': 48,\n",
      "                                              'url': 'https://preview.redd.it/award_images/t5_22cerq/klvxk1wggfd41_Helpful.png?width=48&height=48&auto=webp&s=e50064b090879e8a0b55e433f6ee61d5cb5fbe1d',\n",
      "                                              'width': 48},\n",
      "                                             {'height': 64,\n",
      "                                              'url': 'https://preview.redd.it/award_images/t5_22cerq/klvxk1wggfd41_Helpful.png?width=64&height=64&auto=webp&s=8e5bb2e76683cb6b161830bcdd9642049d6adc11',\n",
      "                                              'width': 64},\n",
      "                                             {'height': 128,\n",
      "                                              'url': 'https://preview.redd.it/award_images/t5_22cerq/klvxk1wggfd41_Helpful.png?width=128&height=128&auto=webp&s=eda4a9246f95f42ee6940cc0ec65306fd20de878',\n",
      "                                              'width': 128}],\n",
      "                    'start_date': None,\n",
      "                    'static_icon_height': 2048,\n",
      "                    'static_icon_url': 'https://i.redd.it/award_images/t5_22cerq/klvxk1wggfd41_Helpful.png',\n",
      "                    'static_icon_width': 2048,\n",
      "                    'sticky_duration_seconds': None,\n",
      "                    'subreddit_coin_reward': 0,\n",
      "                    'subreddit_id': None,\n",
      "                    'tiers_by_required_awardings': None},\n",
      "                   {'award_sub_type': 'GLOBAL',\n",
      "                    'award_type': 'global',\n",
      "                    'awardings_required_to_grant_benefits': None,\n",
      "                    'coin_price': 125,\n",
      "                    'coin_reward': 0,\n",
      "                    'count': 3,\n",
      "                    'days_of_drip_extension': None,\n",
      "                    'days_of_premium': None,\n",
      "                    'description': 'When you come across a feel-good thing.',\n",
      "                    'end_date': None,\n",
      "                    'giver_coin_reward': None,\n",
      "                    'icon_format': None,\n",
      "                    'icon_height': 2048,\n",
      "                    'icon_url': 'https://i.redd.it/award_images/t5_22cerq/5izbv4fn0md41_Wholesome.png',\n",
      "                    'icon_width': 2048,\n",
      "                    'id': 'award_5f123e3d-4f48-42f4-9c11-e98b566d5897',\n",
      "                    'is_enabled': True,\n",
      "                    'is_new': False,\n",
      "                    'name': 'Wholesome',\n",
      "                    'penny_donate': None,\n",
      "                    'penny_price': None,\n",
      "                    'resized_icons': [{'height': 16,\n",
      "                                       'url': 'https://preview.redd.it/award_images/t5_22cerq/5izbv4fn0md41_Wholesome.png?width=16&height=16&auto=webp&s=92932f465d58e4c16b12b6eac4ca07d27e3d11c0',\n",
      "                                       'width': 16},\n",
      "                                      {'height': 32,\n",
      "                                       'url': 'https://preview.redd.it/award_images/t5_22cerq/5izbv4fn0md41_Wholesome.png?width=32&height=32&auto=webp&s=d11484a208d68a318bf9d4fcf371171a1cb6a7ef',\n",
      "                                       'width': 32},\n",
      "                                      {'height': 48,\n",
      "                                       'url': 'https://preview.redd.it/award_images/t5_22cerq/5izbv4fn0md41_Wholesome.png?width=48&height=48&auto=webp&s=febdf28b6f39f7da7eb1365325b85e0bb49a9f63',\n",
      "                                       'width': 48},\n",
      "                                      {'height': 64,\n",
      "                                       'url': 'https://preview.redd.it/award_images/t5_22cerq/5izbv4fn0md41_Wholesome.png?width=64&height=64&auto=webp&s=b4406a2d88bf86fa3dc8a45aacf7e0c7bdccc4fb',\n",
      "                                       'width': 64},\n",
      "                                      {'height': 128,\n",
      "                                       'url': 'https://preview.redd.it/award_images/t5_22cerq/5izbv4fn0md41_Wholesome.png?width=128&height=128&auto=webp&s=19555b13e3e196b62eeb9160d1ac1d1b372dcb0b',\n",
      "                                       'width': 128}],\n",
      "                    'resized_static_icons': [{'height': 16,\n",
      "                                              'url': 'https://preview.redd.it/award_images/t5_22cerq/5izbv4fn0md41_Wholesome.png?width=16&height=16&auto=webp&s=92932f465d58e4c16b12b6eac4ca07d27e3d11c0',\n",
      "                                              'width': 16},\n",
      "                                             {'height': 32,\n",
      "                                              'url': 'https://preview.redd.it/award_images/t5_22cerq/5izbv4fn0md41_Wholesome.png?width=32&height=32&auto=webp&s=d11484a208d68a318bf9d4fcf371171a1cb6a7ef',\n",
      "                                              'width': 32},\n",
      "                                             {'height': 48,\n",
      "                                              'url': 'https://preview.redd.it/award_images/t5_22cerq/5izbv4fn0md41_Wholesome.png?width=48&height=48&auto=webp&s=febdf28b6f39f7da7eb1365325b85e0bb49a9f63',\n",
      "                                              'width': 48},\n",
      "                                             {'height': 64,\n",
      "                                              'url': 'https://preview.redd.it/award_images/t5_22cerq/5izbv4fn0md41_Wholesome.png?width=64&height=64&auto=webp&s=b4406a2d88bf86fa3dc8a45aacf7e0c7bdccc4fb',\n",
      "                                              'width': 64},\n",
      "                                             {'height': 128,\n",
      "                                              'url': 'https://preview.redd.it/award_images/t5_22cerq/5izbv4fn0md41_Wholesome.png?width=128&height=128&auto=webp&s=19555b13e3e196b62eeb9160d1ac1d1b372dcb0b',\n",
      "                                              'width': 128}],\n",
      "                    'start_date': None,\n",
      "                    'static_icon_height': 2048,\n",
      "                    'static_icon_url': 'https://i.redd.it/award_images/t5_22cerq/5izbv4fn0md41_Wholesome.png',\n",
      "                    'static_icon_width': 2048,\n",
      "                    'sticky_duration_seconds': None,\n",
      "                    'subreddit_coin_reward': 0,\n",
      "                    'subreddit_id': None,\n",
      "                    'tiers_by_required_awardings': None}],\n",
      " 'allow_live_comments': True,\n",
      " 'approved_at_utc': None,\n",
      " 'approved_by': None,\n",
      " 'archived': False,\n",
      " 'author': Redditor(name='Fawbxo'),\n",
      " 'author_flair_background_color': None,\n",
      " 'author_flair_css_class': None,\n",
      " 'author_flair_richtext': [],\n",
      " 'author_flair_template_id': None,\n",
      " 'author_flair_text': None,\n",
      " 'author_flair_text_color': None,\n",
      " 'author_flair_type': 'text',\n",
      " 'author_fullname': 't2_s7kswlnh',\n",
      " 'author_is_blocked': False,\n",
      " 'author_patreon_flair': False,\n",
      " 'author_premium': False,\n",
      " 'awarders': [],\n",
      " 'banned_at_utc': None,\n",
      " 'banned_by': None,\n",
      " 'can_gild': False,\n",
      " 'can_mod_post': False,\n",
      " 'category': None,\n",
      " 'clicked': False,\n",
      " 'comment_limit': 2048,\n",
      " 'comment_sort': 'confidence',\n",
      " 'content_categories': None,\n",
      " 'contest_mode': False,\n",
      " 'created': 1667850254.0,\n",
      " 'created_utc': 1667850254.0,\n",
      " 'discussion_type': None,\n",
      " 'distinguished': None,\n",
      " 'domain': 'self.AskReddit',\n",
      " 'downs': 0,\n",
      " 'edited': False,\n",
      " 'gilded': 0,\n",
      " 'gildings': {'gid_1': 2},\n",
      " 'hidden': False,\n",
      " 'hide_score': False,\n",
      " 'id': 'yoy01u',\n",
      " 'is_created_from_ads_ui': False,\n",
      " 'is_crosspostable': False,\n",
      " 'is_meta': False,\n",
      " 'is_original_content': False,\n",
      " 'is_reddit_media_domain': False,\n",
      " 'is_robot_indexable': True,\n",
      " 'is_self': True,\n",
      " 'is_video': False,\n",
      " 'likes': None,\n",
      " 'link_flair_background_color': '',\n",
      " 'link_flair_css_class': None,\n",
      " 'link_flair_richtext': [],\n",
      " 'link_flair_text': None,\n",
      " 'link_flair_text_color': 'dark',\n",
      " 'link_flair_type': 'text',\n",
      " 'locked': False,\n",
      " 'media': None,\n",
      " 'media_embed': {},\n",
      " 'media_only': False,\n",
      " 'mod_note': None,\n",
      " 'mod_reason_by': None,\n",
      " 'mod_reason_title': None,\n",
      " 'mod_reports': [],\n",
      " 'name': 't3_yoy01u',\n",
      " 'no_follow': False,\n",
      " 'num_comments': 13819,\n",
      " 'num_crossposts': 2,\n",
      " 'num_duplicates': 1,\n",
      " 'num_reports': None,\n",
      " 'over_18': False,\n",
      " 'parent_whitelist_status': 'all_ads',\n",
      " 'permalink': '/r/AskReddit/comments/yoy01u/what_person_do_you_think_could_easily_become_the/',\n",
      " 'pinned': False,\n",
      " 'pwls': 6,\n",
      " 'quarantine': False,\n",
      " 'removal_reason': None,\n",
      " 'removed_by': None,\n",
      " 'removed_by_category': None,\n",
      " 'report_reasons': None,\n",
      " 'saved': False,\n",
      " 'score': 19836,\n",
      " 'secure_media': None,\n",
      " 'secure_media_embed': {},\n",
      " 'selftext': '',\n",
      " 'selftext_html': None,\n",
      " 'send_replies': True,\n",
      " 'spoiler': False,\n",
      " 'stickied': False,\n",
      " 'subreddit': Subreddit(display_name='AskReddit'),\n",
      " 'subreddit_id': 't5_2qh1i',\n",
      " 'subreddit_name_prefixed': 'r/AskReddit',\n",
      " 'subreddit_subscribers': 38236606,\n",
      " 'subreddit_type': 'public',\n",
      " 'suggested_sort': None,\n",
      " 'thumbnail': 'self',\n",
      " 'thumbnail_height': None,\n",
      " 'thumbnail_width': None,\n",
      " 'title': 'What person do you think could easily become the President of the '\n",
      "          'United States if they decided to run for it?',\n",
      " 'top_awarded_type': None,\n",
      " 'total_awards_received': 12,\n",
      " 'treatment_tags': [],\n",
      " 'ups': 19836,\n",
      " 'upvote_ratio': 0.87,\n",
      " 'url': 'https://www.reddit.com/r/AskReddit/comments/yoy01u/what_person_do_you_think_could_easily_become_the/',\n",
      " 'user_reports': [],\n",
      " 'view_count': None,\n",
      " 'visited': False,\n",
      " 'whitelist_status': 'all_ads',\n",
      " 'wls': 6}\n"
     ]
    }
   ],
   "source": [
    "# YOUR CODE HERE\n",
    "import pprint\n",
    "\n",
    "submission = reddit.submission(\"yoy01u\")\n",
    "print(submission.title)\n",
    "pprint.pprint(vars(submission))\n",
    "pprint.pprint(submission.comments_by_id)\n",
    "print(submission.author_fullname)"
   ]
  },
  {
   "cell_type": "markdown",
   "metadata": {},
   "source": [
    "💽❓ Data Question:\n",
    "\n",
    "2. Is there any information available that might be a concern when it comes to Ethical Data?"
   ]
  },
  {
   "cell_type": "markdown",
   "metadata": {
    "heading_collapsed": true,
    "hidden": true
   },
   "source": [
    "#### 3. Comment Code"
   ]
  },
  {
   "cell_type": "markdown",
   "metadata": {
    "hidden": true
   },
   "source": [
    "Add comments to the code block below to describe what each line of the code does (Refer to [Obtain Comment Instances Section](https://praw.readthedocs.io/en/stable/getting_started/quick_start.html) when necessary). The code is adapted from [this tutorial](https://praw.readthedocs.io/en/stable/tutorials/comments.html)\n",
    "\n",
    "The purpose is \n",
    "1. to understand what the code is doing \n",
    "2. start to comment your code whenever it is not self-explantory if you have not (others will thank you, YOU will thank you later 😊) "
   ]
  },
  {
   "cell_type": "code",
   "execution_count": 34,
   "metadata": {
    "hidden": true,
    "scrolled": true
   },
   "outputs": [
    {
     "name": "stdout",
     "output_type": "stream",
     "text": [
      "CPU times: user 389 ms, sys: 140 ms, total: 528 ms\n",
      "Wall time: 14.4 s\n"
     ]
    }
   ],
   "source": [
    "%%time\n",
    "from praw.models import MoreComments\n",
    "\n",
    "# YOUR COMMENT HERE\n",
    "# instantiate an array of top comments\n",
    "top_comments = []\n",
    "\n",
    "# YOUR COMMENT HERE\n",
    "# Iterate through the list of top 10 submissions\n",
    "for submission in subreddit.top(limit=10):\n",
    "    # YOUR COMMENT HERE\n",
    "    # Iterate through the list of top-level comments of each submission\n",
    "    for top_level_comment in submission.comments:\n",
    "        # YOUR COMMENT HERE\n",
    "        # If the top-level comment is an instance of MoreComments, skip this comments\n",
    "        if isinstance(top_level_comment, MoreComments):\n",
    "            continue\n",
    "        # YOUR COMMENT HERE\n",
    "        # Otherwise, append the body of the top-level comment into the array of top comments\n",
    "        top_comments.append(top_level_comment.body)"
   ]
  },
  {
   "cell_type": "markdown",
   "metadata": {
    "heading_collapsed": true,
    "hidden": true
   },
   "source": [
    "#### 4. Inspect Comments"
   ]
  },
  {
   "cell_type": "markdown",
   "metadata": {
    "hidden": true
   },
   "source": [
    "How many comments did you extract from the last step? Examine a few comments. "
   ]
  },
  {
   "cell_type": "code",
   "execution_count": 30,
   "metadata": {
    "hidden": true
   },
   "outputs": [
    {
     "data": {
      "text/plain": "746"
     },
     "execution_count": 30,
     "metadata": {},
     "output_type": "execute_result"
    }
   ],
   "source": [
    "#YOUR CODE HERE  # the answer may vary 693 for r/machinelearning\n",
    "len(top_comments)"
   ]
  },
  {
   "cell_type": "code",
   "execution_count": 31,
   "metadata": {
    "hidden": true
   },
   "outputs": [
    {
     "data": {
      "text/plain": "['My cat HATED that omg.', '[deleted]', 'I need this right now']"
     },
     "execution_count": 31,
     "metadata": {},
     "output_type": "execute_result"
    }
   ],
   "source": [
    "import random\n",
    "\n",
    "[random.choice(top_comments) for i in range(3)]"
   ]
  },
  {
   "cell_type": "markdown",
   "metadata": {},
   "source": [
    "<details> <summary>Some of the comments from `r/machinelearning` subreddit are:</summary>\n",
    "\n",
    "    ['Awesome visualisation',\n",
    "    'Similar to a stack or connected neurons.',\n",
    "    'Will this Turing pass the Turing Test?']\n",
    "</details>"
   ]
  },
  {
   "cell_type": "markdown",
   "metadata": {},
   "source": [
    "💽❓ Data Question:\n",
    "\n",
    "3. After having a chance to review a few samples of 5 comments from the subreddit, what can you say about the data? \n",
    "\n",
    "HINT: Think about the \"cleanliness\" of the data, the content of the data, think about what you're trying to do - how does this data line up with your goal?"
   ]
  },
  {
   "cell_type": "markdown",
   "metadata": {
    "hidden": true
   },
   "source": [
    "#### 5. Extract Top Level Comment from Subreddit `TSLA`."
   ]
  },
  {
   "cell_type": "markdown",
   "metadata": {
    "hidden": true
   },
   "source": [
    "Write your code to extract top level comments from the top 10 topics of a time period, e.g., year, from subreddit `TSLA` and store them in a list `top_comments_tsla`.\n"
   ]
  },
  {
   "cell_type": "code",
   "execution_count": 44,
   "metadata": {
    "hidden": true
   },
   "outputs": [],
   "source": [
    "# YOUR CODE HERE\n",
    "\n",
    "# %%time\n",
    "# Instantiate subreddit 'tsla'\n",
    "tsla = reddit.subreddit(\"TSLA\")\n",
    "\n",
    "# instantiate an array of top comments tsla\n",
    "top_comments_tsla = []\n",
    "\n",
    "# Iterate through the list of top 10 submissions\n",
    "for submission in tsla.top(limit=10, time_filter=\"year\"):\n",
    "    # Iterate through the list of top-level comments of each submission\n",
    "    for top_level_comment in submission.comments:\n",
    "        # If the top-level comment is an instance of MoreComments, skip this comments\n",
    "        if isinstance(top_level_comment, MoreComments):\n",
    "            continue\n",
    "        # Otherwise, append the body of the top-level comment into the array of top comments\n",
    "        top_comments_tsla.append(top_level_comment.body)"
   ]
  },
  {
   "cell_type": "code",
   "execution_count": 45,
   "metadata": {
    "hidden": true
   },
   "outputs": [
    {
     "data": {
      "text/plain": "109"
     },
     "execution_count": 45,
     "metadata": {},
     "output_type": "execute_result"
    }
   ],
   "source": [
    "len(top_comments_tsla) # Expected: 174 for r/machinelearning"
   ]
  },
  {
   "cell_type": "code",
   "execution_count": 46,
   "metadata": {
    "hidden": true,
    "scrolled": true
   },
   "outputs": [
    {
     "data": {
      "text/plain": "['Buy the dip is a dangerous game',\n 'https://www.cnbc.com/amp/2021/11/08/pepsico-ceo-says-he-expects-delivery-of-first-tesla-semis-this-quarter.html',\n '🖐️not touching my TSLA for the next 4-5 years at least.']"
     },
     "execution_count": 46,
     "metadata": {},
     "output_type": "execute_result"
    }
   ],
   "source": [
    "[random.choice(top_comments_tsla) for i in range(3)]"
   ]
  },
  {
   "cell_type": "markdown",
   "metadata": {},
   "source": [
    "<details>\n",
    "<summary>Some of the comments from `r/TSLA` subreddit:</summary>\n",
    "\n",
    "    ['I bought puts',\n",
    "    '100%',\n",
    "    'Yes. And I’m bag holding 1200 calls for Friday and am close to throwing myself out the window']\n",
    "</details>"
   ]
  },
  {
   "cell_type": "markdown",
   "metadata": {},
   "source": [
    "💽❓ Data Question:\n",
    "\n",
    "4. Now that you've had a chance to review another subreddits comments, do you see any differences in the kinds of comments either subreddit has - and how might this relate to bias?"
   ]
  },
  {
   "cell_type": "markdown",
   "metadata": {
    "heading_collapsed": true
   },
   "source": [
    "### Task III: Sentiment Analysis"
   ]
  },
  {
   "cell_type": "markdown",
   "metadata": {
    "hidden": true
   },
   "source": [
    "Let us analyze the sentiment of comments scraped from `r/TSLA` using a pre-trained HuggingFace model to make the inference. Take a [Quick tour](https://huggingface.co/docs/transformers/quicktour). "
   ]
  },
  {
   "cell_type": "markdown",
   "metadata": {
    "hidden": true
   },
   "source": [
    "#### 1. Import `pipeline`"
   ]
  },
  {
   "cell_type": "code",
   "execution_count": 47,
   "metadata": {
    "hidden": true
   },
   "outputs": [],
   "source": [
    "from transformers import pipeline # YOUR CODE HERE"
   ]
  },
  {
   "cell_type": "markdown",
   "metadata": {
    "hidden": true
   },
   "source": [
    "#### 2. Create a Pipeline to Perform Task \"sentiment-analysis\""
   ]
  },
  {
   "cell_type": "code",
   "execution_count": 48,
   "metadata": {
    "hidden": true
   },
   "outputs": [
    {
     "data": {
      "text/plain": "Downloading:   0%|          | 0.00/1.45k [00:00<?, ?B/s]",
      "application/vnd.jupyter.widget-view+json": {
       "version_major": 2,
       "version_minor": 0,
       "model_id": "36f42d56e62c435e9490aafb5db8f2ba"
      }
     },
     "metadata": {},
     "output_type": "display_data"
    }
   ],
   "source": [
    "sentiment_model = pipeline(model=\"finiteautomata/bertweet-base-sentiment-analysis\")# YOUR CODE HERE\n",
    "\n",
    "# pipeline(\"sentiment-analysis\")"
   ]
  },
  {
   "cell_type": "markdown",
   "metadata": {
    "hidden": true
   },
   "source": [
    "#### 3. Get one comment from list `top_comments_tsla` from Task II - 5."
   ]
  },
  {
   "cell_type": "code",
   "execution_count": 51,
   "metadata": {
    "hidden": true
   },
   "outputs": [],
   "source": [
    "comment = random.choice(top_comments_tsla)"
   ]
  },
  {
   "cell_type": "code",
   "execution_count": 52,
   "metadata": {
    "hidden": true
   },
   "outputs": [
    {
     "data": {
      "text/plain": "\"Bro he's selling 20 billion dollars at least worth of shares shares and funds are doing it day by day their not just gonna dump it. Maybe some institutional play will offer to scoop them all up at once.\\n\\nHis brother sold 200 million dollars worth last week\\n\\nYes its a buying opportunity but feel it out\""
     },
     "execution_count": 52,
     "metadata": {},
     "output_type": "execute_result"
    }
   ],
   "source": [
    "comment"
   ]
  },
  {
   "cell_type": "markdown",
   "metadata": {},
   "source": [
    "The example comment is: `'Bury Burry!!!!!'`. Print out what you get. For reproducibility, use the same comment in the next step; consider setting a seed."
   ]
  },
  {
   "cell_type": "markdown",
   "metadata": {
    "hidden": true
   },
   "source": [
    "#### 4. Make Inference!"
   ]
  },
  {
   "cell_type": "code",
   "execution_count": 54,
   "metadata": {
    "hidden": true
   },
   "outputs": [
    {
     "name": "stdout",
     "output_type": "stream",
     "text": [
      "[{'label': 'NEU', 'score': 0.9632542133331299}]\n"
     ]
    }
   ],
   "source": [
    "sentiment = sentiment_model(comment)# YOUR CODE HERE\n",
    "print(sentiment)"
   ]
  },
  {
   "cell_type": "markdown",
   "metadata": {
    "hidden": true
   },
   "source": [
    "What is the type of the output `sentiment`?"
   ]
  },
  {
   "cell_type": "markdown",
   "metadata": {
    "hidden": true
   },
   "source": [
    "```\n",
    "YOUR ANSWER HERE\n",
    "Neutral\n",
    "```"
   ]
  },
  {
   "cell_type": "code",
   "execution_count": 55,
   "metadata": {
    "hidden": true,
    "scrolled": true
   },
   "outputs": [
    {
     "name": "stdout",
     "output_type": "stream",
     "text": [
      "The comment: Bro he's selling 20 billion dollars at least worth of shares shares and funds are doing it day by day their not just gonna dump it. Maybe some institutional play will offer to scoop them all up at once.\n",
      "\n",
      "His brother sold 200 million dollars worth last week\n",
      "\n",
      "Yes its a buying opportunity but feel it out\n",
      "Predicted Label is NEU and the score is 0.963\n"
     ]
    }
   ],
   "source": [
    "print(f'The comment: {comment}')\n",
    "print(f'Predicted Label is {sentiment[0][\"label\"]} and the score is {sentiment[0][\"score\"]:.3f}')"
   ]
  },
  {
   "cell_type": "markdown",
   "metadata": {},
   "source": [
    "For the example comment, the output is:\n",
    "\n",
    "    The comment: Bury Burry!!!!!\n",
    "    Predicted Label is NEGATIVE and the score is 0.989"
   ]
  },
  {
   "cell_type": "markdown",
   "metadata": {},
   "source": [
    "🖥️❓ Model Question:\n",
    "\n",
    "1. What does the score represent?\n",
    "The probability of sentiment of the comment is Neutral."
   ]
  },
  {
   "cell_type": "markdown",
   "metadata": {},
   "source": [
    "### Task IV: Put All Together"
   ]
  },
  {
   "cell_type": "markdown",
   "metadata": {},
   "source": [
    "Let's pull all the piece together, create a simple script that does \n",
    "\n",
    "- get the subreddit\n",
    "- get comments from the top posts for given subreddit\n",
    "- run sentiment analysis "
   ]
  },
  {
   "cell_type": "markdown",
   "metadata": {},
   "source": [
    "#### Complete the Script"
   ]
  },
  {
   "cell_type": "markdown",
   "metadata": {},
   "source": [
    "Once you complete the code, running the following block writes the code into a new Python script and saves it as `top_tlsa_comment_sentiment.py` under the same directory with the notebook. "
   ]
  },
  {
   "cell_type": "code",
   "execution_count": 68,
   "metadata": {
    "code_folding": []
   },
   "outputs": [
    {
     "name": "stdout",
     "output_type": "stream",
     "text": [
      "Overwriting top_tlsa_comment_sentiment.py\n"
     ]
    }
   ],
   "source": [
    "%%writefile top_tlsa_comment_sentiment.py\n",
    "\n",
    "import secrets_reddit as secrets\n",
    "import random\n",
    "\n",
    "from typing import Dict, List\n",
    "\n",
    "from praw import Reddit\n",
    "from praw.models.reddit.subreddit import Subreddit\n",
    "from praw.models import MoreComments\n",
    "\n",
    "from transformers import pipeline\n",
    "\n",
    "\n",
    "def get_subreddit(display_name:str) -> Subreddit:\n",
    "    \"\"\"Get subreddit object from display name\n",
    "\n",
    "    Args:\n",
    "        display_name (str): [description]\n",
    "\n",
    "    Returns:\n",
    "        Subreddit: [description]\n",
    "    \"\"\"\n",
    "    reddit = Reddit(\n",
    "        client_id=secrets.REDDIT_API_CLIENT_ID,        \n",
    "        client_secret=secrets.REDDIT_API_CLIENT_SECRET,\n",
    "        user_agent=secrets.REDDIT_API_USER_AGENT\n",
    "        )\n",
    "    \n",
    "    subreddit = reddit.subreddit(display_name)# YOUR CODE HERE\n",
    "    return subreddit\n",
    "\n",
    "def get_comments(subreddit:Subreddit, limit:int=3) -> List[str]:\n",
    "    \"\"\" Get comments from subreddit\n",
    "\n",
    "    Args:\n",
    "        subreddit (Subreddit): [description]\n",
    "        limit (int, optional): [description]. Defaults to 3.\n",
    "\n",
    "    Returns:\n",
    "        List[str]: List of comments\n",
    "    \"\"\"\n",
    "    top_comments = []\n",
    "    for submission in subreddit.top(limit=limit):\n",
    "        for top_level_comment in submission.comments:\n",
    "            if isinstance(top_level_comment, MoreComments):\n",
    "                continue\n",
    "            top_comments.append(top_level_comment.body)\n",
    "    return top_comments\n",
    "\n",
    "def run_sentiment_analysis(comment:str) -> Dict:\n",
    "    \"\"\"Run sentiment analysis on comment using default distilbert model\n",
    "    \n",
    "    Args:\n",
    "        comment (str): [description]\n",
    "        \n",
    "    Returns:\n",
    "        str: Sentiment analysis result\n",
    "    \"\"\"\n",
    "    sentiment_model = pipeline(\"sentiment-analysis\") # YOUR CODE HERE\n",
    "    sentiment = sentiment_model(comment)\n",
    "    return sentiment[0]\n",
    "\n",
    "\n",
    "if __name__ == '__main__':\n",
    "    subreddit = get_subreddit(\"TSLA\")# YOUR CODE HERE\n",
    "    comments = get_comments(subreddit, limit=10)\n",
    "    comment = random.choice(comments)# YOUR CODE HERE\n",
    "    sentiment = run_sentiment_analysis(comment)\n",
    "    \n",
    "    print(f'The comment: {comment}')\n",
    "    print(f'Predicted Label is {sentiment[\"label\"]} and the score is {sentiment[\"score\"]:.3f}')"
   ]
  },
  {
   "cell_type": "markdown",
   "metadata": {},
   "source": [
    "Run the following block to see the output."
   ]
  },
  {
   "cell_type": "code",
   "execution_count": 69,
   "metadata": {},
   "outputs": [
    {
     "name": "stdout",
     "output_type": "stream",
     "text": [
      "No model was supplied, defaulted to distilbert-base-uncased-finetuned-sst-2-english and revision af0f99b (https://huggingface.co/distilbert-base-uncased-finetuned-sst-2-english).\r\n",
      "Using a pipeline without specifying a model name and revision in production is not recommended.\r\n",
      "The comment: There are three things that will serve as an outpost for Tesla's stock price... 1: Market strategy (if Tesla still uses FSD to make money from customers) I will choose to sell out Tesla's stock.. 2  : Price strategy (if Tesla can’t offer consumers an irresistible preferential price because it reduces the components by two-thirds of the cost of a gasoline car) I will choose to sell out Tesla’s stock.. 3: Energy strategy: (if  Tesla cannot provide consumers with free charging at super charging stations for 5 years) I will choose to sell out Tesla’s stock\r\n",
      "Predicted Label is NEGATIVE and the score is 0.998\r\n"
     ]
    }
   ],
   "source": [
    "!python top_tlsa_comment_sentiment.py"
   ]
  },
  {
   "cell_type": "markdown",
   "metadata": {},
   "source": [
    "<details><summary> Expected output:</summary>\n",
    "\n",
    "    No model was supplied, defaulted to distilbert-base-uncased-finetuned-sst-2-english (https://huggingface.co/distilbert-base-uncased-finetuned-sst-2-english)\n",
    "    The comment: When is DOGE flying\n",
    "    Predicted Label is POSITIVE and the score is 0.689\n",
    "</details>"
   ]
  },
  {
   "cell_type": "markdown",
   "metadata": {},
   "source": [
    "💽❓ Data Question:\n",
    "\n",
    "5. Is the subreddit active? About how many posts or threads per day? How could you find this information?"
   ]
  },
  {
   "cell_type": "markdown",
   "metadata": {},
   "source": []
  },
  {
   "cell_type": "markdown",
   "metadata": {},
   "source": [
    "💽❓ Data Question:\n",
    "\n",
    "6. Does there seem to be a large distribution of posters or a smaller concentration of posters who are very active? What kind of impact might this have on the data?"
   ]
  },
  {
   "cell_type": "markdown",
   "metadata": {},
   "source": []
  }
 ],
 "metadata": {
  "kernelspec": {
   "display_name": "Python 3 (ipykernel)",
   "language": "python",
   "name": "python3"
  },
  "language_info": {
   "codemirror_mode": {
    "name": "ipython",
    "version": 3
   },
   "file_extension": ".py",
   "mimetype": "text/x-python",
   "name": "python",
   "nbconvert_exporter": "python",
   "pygments_lexer": "ipython3",
   "version": "3.8.13"
  },
  "toc": {
   "base_numbering": 1,
   "nav_menu": {},
   "number_sections": true,
   "sideBar": true,
   "skip_h1_title": false,
   "title_cell": "Table of Contents",
   "title_sidebar": "Contents",
   "toc_cell": false,
   "toc_position": {},
   "toc_section_display": true,
   "toc_window_display": true
  },
  "vscode": {
   "interpreter": {
    "hash": "c57794392b841cffd8686d5c4548e4e2ec78521f49300d60954d1380f1b4bd1f"
   }
  }
 },
 "nbformat": 4,
 "nbformat_minor": 2
}
